{
 "cells": [
  {
   "cell_type": "code",
   "execution_count": 2,
   "metadata": {},
   "outputs": [],
   "source": [
    "import numpy as np\n",
    "from qiskit.circuit.library import IQP\n",
    "from qiskit.quantum_info import SparsePauliOp, random_hermitian\n",
    "from qiskit_ibm_runtime import EstimatorV2 as Estimator, QiskitRuntimeService\n",
    "from qiskit.transpiler.preset_passmanagers import generate_preset_pass_manager\n",
    " \n",
    "token = \"30553f86a972d7542e8279fe54616b8caf5e036734530a36c4bc77d54b31b3b74aab9a932ed61e9048fee6e5f4ba20ac9405e95cff67e646d5e09f33b31b15fd\"\n",
    "service = QiskitRuntimeService(channel='ibm_quantum', token=token)\n",
    "backend = service.least_busy(operational=True, simulator=False, min_num_qubits=127)\n",
    "estimator = Estimator(backend)\n",
    " \n",
    "n_qubits = 127\n",
    "mat = np.real(random_hermitian(n_qubits, seed=1234))\n",
    "circuit = IQP(mat)\n",
    "observable = SparsePauliOp(\"Z\" * n_qubits)"
   ]
  },
  {
   "cell_type": "code",
   "execution_count": 3,
   "metadata": {},
   "outputs": [
    {
     "data": {
      "text/plain": [
       "<IBMBackend('ibm_sherbrooke')>"
      ]
     },
     "execution_count": 3,
     "metadata": {},
     "output_type": "execute_result"
    }
   ],
   "source": [
    "backend"
   ]
  },
  {
   "cell_type": "code",
   "execution_count": null,
   "metadata": {},
   "outputs": [
    {
     "name": "stderr",
     "output_type": "stream",
     "text": [
      "WARNING:urllib3.connectionpool:Retrying (PostForcelistRetry(total=4, connect=3, read=None, redirect=None, status=None)) after connection broken by 'RemoteDisconnected('Remote end closed connection without response')': /runtime/jobs/d0ggx4436cs0008ramq0?exclude_params=true\n",
      "WARNING:urllib3.connectionpool:Retrying (PostForcelistRetry(total=3, connect=2, read=None, redirect=None, status=None)) after connection broken by 'NameResolutionError(\"<urllib3.connection.HTTPSConnection object at 0x000001ECA440AE90>: Failed to resolve 'api.quantum.ibm.com' ([Errno 11001] getaddrinfo failed)\")': /runtime/jobs/d0ggx4436cs0008ramq0?exclude_params=true\n",
      "WARNING:urllib3.connectionpool:Retrying (PostForcelistRetry(total=2, connect=1, read=None, redirect=None, status=None)) after connection broken by 'NameResolutionError(\"<urllib3.connection.HTTPSConnection object at 0x000001ECA4409F90>: Failed to resolve 'api.quantum.ibm.com' ([Errno 11001] getaddrinfo failed)\")': /runtime/jobs/d0ggx4436cs0008ramq0?exclude_params=true\n",
      "WARNING:urllib3.connectionpool:Retrying (PostForcelistRetry(total=1, connect=0, read=None, redirect=None, status=None)) after connection broken by 'NameResolutionError(\"<urllib3.connection.HTTPSConnection object at 0x000001ECA440B0D0>: Failed to resolve 'api.quantum.ibm.com' ([Errno 11001] getaddrinfo failed)\")': /runtime/jobs/d0ggx4436cs0008ramq0?exclude_params=true\n"
     ]
    }
   ],
   "source": [
    "estimator0 = Estimator(backend, options={\"resilience_level\":0})\n",
    "pm_0 = generate_preset_pass_manager(optimization_level=0, backend=backend)\n",
    "isa_circuit_0 = pm_0.run(circuit)\n",
    "isa_observable_0 = observable.apply_layout(isa_circuit_0.layout)\n",
    "\n",
    "job_0 = estimator.run([(isa_circuit_0, isa_observable_0)])\n",
    "result_0 = job_0.result()\n",
    " \n",
    "print(f\" > Expectation value: {result_0[0].data.evs}\")\n",
    "print(f\" > Metadata: {result_0[0].metadata}\")"
   ]
  },
  {
   "cell_type": "code",
   "execution_count": null,
   "metadata": {},
   "outputs": [
    {
     "name": "stdout",
     "output_type": "stream",
     "text": [
      " > Expectation value: 0.0029296875\n",
      " > Metadata: {'shots': 4096, 'target_precision': 0.015625, 'circuit_metadata': {}, 'resilience': {}, 'num_randomizations': 32}\n"
     ]
    }
   ],
   "source": [
    "estimator1 = Estimator(backend, options={\"resilience_level\":1})\n",
    "pm_1 = generate_preset_pass_manager(optimization_level=0, backend=backend)\n",
    "isa_circuit_1 = pm_1.run(circuit)\n",
    "isa_observable_1 = observable.apply_layout(isa_circuit_1.layout)\n",
    " \n",
    "job_1 = estimator.run([(isa_circuit_1, isa_observable_1)])\n",
    "result_1= job_1.result()\n",
    " \n",
    "print(f\" > Expectation value: {result_1[0].data.evs}\")\n",
    "print(f\" > Metadata: {result_1[0].metadata}\")"
   ]
  },
  {
   "cell_type": "code",
   "execution_count": null,
   "metadata": {},
   "outputs": [
    {
     "name": "stdout",
     "output_type": "stream",
     "text": [
      " > Expectation value: -0.00390625\n",
      " > Metadata: {'shots': 4096, 'target_precision': 0.015625, 'circuit_metadata': {}, 'resilience': {}, 'num_randomizations': 32}\n"
     ]
    }
   ],
   "source": [
    "estimator2 = Estimator(backend, options={\"resilience_level\":2})\n",
    "pm_2 = generate_preset_pass_manager(optimization_level=0, backend=backend)\n",
    "isa_circuit_2 = pm_2.run(circuit)\n",
    "isa_observable_2 = observable.apply_layout(isa_circuit_2.layout)\n",
    " \n",
    "job_2 = estimator.run([(isa_circuit_2, isa_observable_2)])\n",
    "result_2 = job_2.result()\n",
    " \n",
    "print(f\" > Expectation value: {result_2[0].data.evs}\")\n",
    "print(f\" > Metadata: {result_2[0].metadata}\")"
   ]
  },
  {
   "cell_type": "code",
   "execution_count": null,
   "metadata": {},
   "outputs": [],
   "source": []
  }
 ],
 "metadata": {
  "kernelspec": {
   "display_name": "qi_venv",
   "language": "python",
   "name": "python3"
  },
  "language_info": {
   "codemirror_mode": {
    "name": "ipython",
    "version": 3
   },
   "file_extension": ".py",
   "mimetype": "text/x-python",
   "name": "python",
   "nbconvert_exporter": "python",
   "pygments_lexer": "ipython3",
   "version": "3.10.10"
  }
 },
 "nbformat": 4,
 "nbformat_minor": 2
}
