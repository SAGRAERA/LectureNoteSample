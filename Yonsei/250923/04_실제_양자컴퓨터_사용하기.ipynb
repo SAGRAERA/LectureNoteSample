{
 "cells": [
  {
   "cell_type": "markdown",
   "metadata": {},
   "source": [
    "# 실제 양자컴퓨터 사용하기\n",
    "\n",
    "## 학습 목표\n",
    "- ✅ Qiskit Aer 시뮬레이터 완벽 활용\n",
    "- ✅ IBM Quantum 실제 하드웨어 접속\n",
    "- ✅ 노이즈 모델 이해와 적용\n",
    "- ✅ 오류 완화 기법 실습"
   ]
  },
  {
   "cell_type": "markdown",
   "metadata": {},
   "source": [
    "## Part 1: 환경 설정"
   ]
  },
  {
   "cell_type": "code",
   "execution_count": null,
   "metadata": {},
   "outputs": [],
   "source": [
    "# 필수 라이브러리 설치 확인\n",
    "import sys\n",
    "\n",
    "def check_installation():\n",
    "    \"\"\"설치 상태 확인하는 함수\"\"\"\n",
    "    libraries = {\n",
    "        'qiskit': '양자 회로 작성',\n",
    "        'qiskit_aer': '시뮬레이터',\n",
    "        'qiskit_ibm_runtime': 'IBM 양자컴퓨터 연결',\n",
    "        'matplotlib': '그래프 그리기',\n",
    "        'numpy': '수학 계산'\n",
    "    }\n",
    "    \n",
    "    print(\"📦 라이브러리 설치 확인\")\n",
    "    print(\"=\"*50)\n",
    "    \n",
    "    for lib, desc in libraries.items():\n",
    "        try:\n",
    "            __import__(lib.replace('_', '-') if '-' in lib else lib)\n",
    "            print(f\"✅ {lib:20} : {desc}\")\n",
    "        except ImportError:\n",
    "            print(f\"❌ {lib:20} : 설치 필요!\")\n",
    "            print(f\"   설치 명령: pip install {lib.replace('_', '-')}\")\n",
    "\n",
    "check_installation()"
   ]
  },
  {
   "cell_type": "code",
   "execution_count": null,
   "metadata": {},
   "outputs": [],
   "source": [
    "# 라이브러리 임포트\n",
    "from qiskit import QuantumCircuit\n",
    "from qiskit.visualization import plot_histogram, plot_circuit_layout\n",
    "import numpy as np\n",
    "import matplotlib.pyplot as plt\n",
    "from qiskit import __version__\n",
    "\n",
    "print(\"✅ 모든 라이브러리 로딩 완료!\")\n",
    "print(f\"Qiskit 버전: {__version__}\")"
   ]
  },
  {
   "cell_type": "markdown",
   "metadata": {},
   "source": [
    "## Part 2: 기본 양자 회로 시뮬레이션 (Bell state)"
   ]
  },
  {
   "cell_type": "code",
   "execution_count": null,
   "metadata": {},
   "outputs": [],
   "source": [
    "# Bell State 생성\n",
    "qc = QuantumCircuit(2)\n",
    "\n",
    "qc.h(0)      # 첫 번째 큐비트를 중첩 상태로\n",
    "qc.cx(0, 1)  # 두 큐비트를 얽힘 상태로\n",
    "\n",
    "# # 측정\n",
    "# qc.measure_all()\n",
    "\n",
    "qc.draw('mpl')"
   ]
  },
  {
   "cell_type": "code",
   "execution_count": null,
   "metadata": {},
   "outputs": [],
   "source": [
    "from qiskit.quantum_info import Statevector\n",
    "\n",
    "Statevector(qc)"
   ]
  },
  {
   "cell_type": "code",
   "execution_count": null,
   "metadata": {},
   "outputs": [],
   "source": [
    "from qiskit.visualization.array import array_to_latex\n",
    "\n",
    "array_to_latex(Statevector(qc))"
   ]
  },
  {
   "cell_type": "code",
   "execution_count": null,
   "metadata": {},
   "outputs": [],
   "source": [
    "qc.measure_all()\n",
    "\n",
    "qc.draw('mpl')"
   ]
  },
  {
   "cell_type": "markdown",
   "metadata": {},
   "source": [
    "### 2.1 백엔드 사용"
   ]
  },
  {
   "cell_type": "code",
   "execution_count": null,
   "metadata": {},
   "outputs": [],
   "source": [
    "from qiskit.providers.fake_provider import GenericBackendV2\n",
    "\n",
    "backend = GenericBackendV2(num_qubits=5, noise_info=True)\n",
    "\n",
    "job = backend.run(qc)\n",
    "\n",
    "counts = job.result().get_counts()\n",
    "\n",
    "print(counts)"
   ]
  },
  {
   "cell_type": "markdown",
   "metadata": {},
   "source": [
    "### 2.2 Sampler"
   ]
  },
  {
   "cell_type": "code",
   "execution_count": null,
   "metadata": {},
   "outputs": [],
   "source": [
    "from qiskit_ibm_runtime import SamplerV2 as Sampler\n",
    "\n",
    "sampler = Sampler(backend)\n",
    "\n",
    "job = sampler.run([qc])\n",
    "\n",
    "counts = job.result().get_counts()\n",
    "\n",
    "print(counts)"
   ]
  },
  {
   "cell_type": "markdown",
   "metadata": {},
   "source": [
    "### 2.2-1 Transpile\n",
    "\n",
    "양자 회로를 작성할 때 썼던 게이트들을 백엔드(QPU)에서 사용 가능한 양자 게이트 종류로 변경해야 사용할 수 있습니다."
   ]
  },
  {
   "cell_type": "code",
   "execution_count": null,
   "metadata": {},
   "outputs": [],
   "source": [
    "from qiskit import transpile\n",
    "\n",
    "transpiled_qc = transpile(qc, backend)\n",
    "\n",
    "job = sampler.run([transpiled_qc])\n",
    "\n",
    "# counts = job.result()[0].data.meas.get_counts()\n",
    "counts = job.result()[0].join_data().get_counts()\n",
    "\n",
    "print(counts)"
   ]
  },
  {
   "cell_type": "markdown",
   "metadata": {},
   "source": [
    "### 2.3 Aer Simulator"
   ]
  },
  {
   "cell_type": "code",
   "execution_count": null,
   "metadata": {},
   "outputs": [],
   "source": [
    "from qiskit_aer import AerSimulator"
   ]
  },
  {
   "cell_type": "markdown",
   "metadata": {},
   "source": [
    "| 메소드               | 설명                                                                                   | 특징 / 용도                                  |\n",
    "|-----------------------|----------------------------------------------------------------------------------------|----------------------------------------------|\n",
    "| **automatic**         | 회로와 노이즈 모델에 따라 자동으로 시뮬레이션 방법 선택                                | 기본값, 상황에 맞게 자동 결정                 |\n",
    "| **statevector**       | 밀집 상태벡터 기반 시뮬레이션                                                          | 이상적 회로, 측정은 마지막만 지원, 노이즈 모델 있으면 shot마다 샘플링 |\n",
    "| **density_matrix**    | 밀도 행렬 기반 시뮬레이션                                                              | 노이즈 포함 회로 시뮬레이션 가능, 리소스 많이 소모 |\n",
    "| **stabilizer**        | Clifford 안정자(state) 기반 시뮬레이션                                                 | Clifford 회로 전용, 매우 빠름, Clifford 노이즈만 지원 |\n",
    "| **extended_stabilizer** | Clifford+T 근사 시뮬레이션                                                            | 비Clifford 게이트 수 많아지면 리소스 급증     |\n",
    "| **matrix_product_state** | 텐서 네트워크 (MPS) 기반 시뮬레이션                                                   | 얽힘 낮은 회로에 효율적, 큰 큐비트 수 가능    |\n",
    "| **unitary**           | 회로의 유니터리 행렬 자체를 계산                                                       | 게이트만 지원, 측정/리셋/노이즈 불가          |\n",
    "| **superop**           | 수퍼오퍼레이터 행렬 계산            "
   ]
  },
  {
   "cell_type": "markdown",
   "metadata": {},
   "source": [
    "구버전 (qiskit 2.0 이전 호환)"
   ]
  },
  {
   "cell_type": "code",
   "execution_count": null,
   "metadata": {},
   "outputs": [],
   "source": [
    "simulator = AerSimulator(method='statevector')\n",
    "\n",
    "job = simulator.run(qc)\n",
    "\n",
    "result = job.result()\n",
    "\n",
    "counts = result.get_counts()\n",
    "\n",
    "print(counts)"
   ]
  },
  {
   "cell_type": "markdown",
   "metadata": {},
   "source": [
    "신버전 (qiskit 2.0 이후)"
   ]
  },
  {
   "cell_type": "code",
   "execution_count": null,
   "metadata": {},
   "outputs": [],
   "source": [
    "from qiskit_aer.primitives import SamplerV2\n",
    "\n",
    "sampler = SamplerV2()\n",
    "\n",
    "job = sampler.run([qc])\n",
    "result = job.result()\n",
    "\n",
    "counts = result[0].join_data().get_counts()\n",
    "\n",
    "print(counts)"
   ]
  },
  {
   "cell_type": "markdown",
   "metadata": {},
   "source": [
    "<div style=\"border:2px solid green; padding:10px; background:#d4edda; color:black\">\n",
    "    ※ 양자 회로에서 매 shot 후 측정 결과 확인 방법\n",
    "</div>"
   ]
  },
  {
   "cell_type": "code",
   "execution_count": null,
   "metadata": {},
   "outputs": [],
   "source": [
    "result = simulator.run(qc, shots=10, memory=True).result()\n",
    "memory = result.get_memory(qc)\n",
    "print(memory)"
   ]
  },
  {
   "cell_type": "markdown",
   "metadata": {},
   "source": [
    "## Part 3: 노이즈 시뮬레이션"
   ]
  },
  {
   "cell_type": "markdown",
   "metadata": {},
   "source": [
    "### 3.1 ibm backend로 부터"
   ]
  },
  {
   "cell_type": "code",
   "execution_count": null,
   "metadata": {},
   "outputs": [],
   "source": [
    "from qiskit_ibm_runtime.fake_provider import FakeVigoV2\n",
    "device_backend = FakeVigoV2()\n",
    "\n",
    "sim_vigo = AerSimulator.from_backend(device_backend)\n",
    "\n",
    "transpiled_qc = transpile(qc, sim_vigo)\n",
    "\n",
    "result_noise = sim_vigo.run(transpiled_qc).result()\n",
    "counts_noise = result_noise.get_counts(0)\n",
    "\n",
    "print(counts_noise)\n"
   ]
  },
  {
   "cell_type": "markdown",
   "metadata": {},
   "source": [
    "### 3.2 노이즈 모델 설정"
   ]
  },
  {
   "cell_type": "markdown",
   "metadata": {},
   "source": [
    "#### Quantum Errors (Qiskit Aer noise module)\n",
    "\n",
    "|종류|설명|\n",
    "|-------------------------------|----------------------------------------------------------------------|\n",
    "| **kraus_error**               | 일반적인 n-큐비트 CPTP 에러 채널 (Kraus 행렬 리스트로 정의)           |\n",
    "| **mixed_unitary_error**       | n-큐비트 혼합 유니터리 에러 (유니터리 행렬 리스트 + 확률로 정의)       |\n",
    "| **coherent_unitary_error**    | n-큐비트 코히어런트 유니터리 에러 (단일 유니터리 행렬로 정의)          |\n",
    "| **pauli_error**               | n-큐비트 Pauli 에러 채널 (Pauli 연산자 리스트 + 확률로 정의)           |\n",
    "| **depolarizing_error**        | n-큐비트 depolarizing 에러 (디폴라라이징 확률로 파라미터화)            |\n",
    "| **reset_error**               | 단일 큐비트 리셋 에러 (0 또는 1 상태로 잘못 리셋될 확률로 정의)        |\n",
    "| **thermal_relaxation_error**  | 단일 큐비트 열적 이완 채널 (T₁, T₂, 게이트 시간, thermal population으로 파라미터화) |\n",
    "| **phase_amplitude_damping_error** | 단일 큐비트 위상+진폭 감쇠 복합 에러 (진폭 감쇠, 위상 감쇠, thermal population으로 정의) |\n",
    "| **amplitude_damping_error**   | 단일 큐비트 진폭 감쇠 에러 (진폭 감쇠 + thermal population)           |\n",
    "| **phase_damping_error**       | 단일 큐비트 위상 감쇠 에러 (위상 감쇠 확률로 정의)                     |\n"
   ]
  },
  {
   "cell_type": "code",
   "execution_count": null,
   "metadata": {},
   "outputs": [],
   "source": [
    "from qiskit_aer.noise import NoiseModel, QuantumError, ReadoutError, pauli_error, depolarizing_error, thermal_relaxation_error\n",
    "\n",
    "noise_model = NoiseModel()"
   ]
  },
  {
   "cell_type": "markdown",
   "metadata": {},
   "source": [
    "#### 3.2.1 예시: Flip Error\n",
    "\n",
    "Bit Flip : 파울리 x 게이트<br>\n",
    "Phase Flip : 파울리 z 게이트"
   ]
  },
  {
   "cell_type": "code",
   "execution_count": null,
   "metadata": {},
   "outputs": [],
   "source": [
    "p_error = 0.05   # 에러율 5%\n",
    "bit_flip = pauli_error([('X', p_error), ('I', 1 - p_error)])\n",
    "phase_flip = pauli_error([('Z', p_error), ('I', 1 - p_error)])\n",
    "\n",
    "print(bit_flip)\n",
    "print(phase_flip)"
   ]
  },
  {
   "cell_type": "code",
   "execution_count": null,
   "metadata": {},
   "outputs": [],
   "source": [
    "gates = simulator.configuration().basis_gates\n",
    "print(gates)"
   ]
  },
  {
   "cell_type": "code",
   "execution_count": null,
   "metadata": {},
   "outputs": [],
   "source": [
    "noise_model = NoiseModel()\n",
    "print(noise_model)"
   ]
  },
  {
   "cell_type": "code",
   "execution_count": null,
   "metadata": {},
   "outputs": [],
   "source": [
    "noise_model.add_all_qubit_quantum_error(bit_flip, ['x'])\n",
    "# noise_model.add_all_qubit_quantum_error(phase_flip, ['x'])\n",
    "print(noise_model)\n"
   ]
  },
  {
   "cell_type": "markdown",
   "metadata": {},
   "source": [
    "### 3.3 이상적 vs 노이즈 비교"
   ]
  },
  {
   "cell_type": "code",
   "execution_count": null,
   "metadata": {},
   "outputs": [],
   "source": [
    "sim_ideal = AerSimulator()\n",
    "result_ideal = sim_ideal.run(qc).result()\n",
    "plot_histogram(result_ideal.get_counts())"
   ]
  },
  {
   "cell_type": "markdown",
   "metadata": {},
   "source": [
    "#### 3.3.1 Bit Flip 에러"
   ]
  },
  {
   "cell_type": "code",
   "execution_count": null,
   "metadata": {},
   "outputs": [],
   "source": [
    "# 에러율\n",
    "e_reset = 0.03\n",
    "e_meas = 0.1\n",
    "e_single_gate = 0.05\n",
    "\n",
    "error_reset = pauli_error([('X', e_reset), ('I', 1 - e_reset)])\n",
    "error_meas = pauli_error([('X',e_meas), ('I', 1 - e_meas)])\n",
    "error_single_gate = pauli_error([('X',e_single_gate), ('I', 1 - e_single_gate)])\n",
    "error_two_gate = error_single_gate.tensor(error_single_gate)\n",
    "\n",
    "noise_bit_flip = NoiseModel()\n",
    "noise_bit_flip = NoiseModel()\n",
    "noise_bit_flip.add_all_qubit_quantum_error(error_reset, \"reset\")\n",
    "noise_bit_flip.add_all_qubit_quantum_error(error_meas, \"measure\")\n",
    "noise_bit_flip.add_all_qubit_quantum_error(error_single_gate, [\"u1\", \"u2\", \"u3\"])\n",
    "noise_bit_flip.add_all_qubit_quantum_error(error_two_gate, [\"cx\"])\n",
    "\n",
    "print(noise_bit_flip)\n",
    "\n",
    "sim_noise = AerSimulator(noise_model=noise_bit_flip)\n",
    "\n",
    "qc_noise = transpile(qc, sim_noise)\n",
    "result_ideal = sim_noise.run(qc).result()\n",
    "plot_histogram(result_ideal.get_counts())"
   ]
  },
  {
   "cell_type": "markdown",
   "metadata": {},
   "source": [
    "#### 3.3.2 T1/T2 에러\n",
    "\n",
    "- T1 : Relaxation Time <br>\n",
    "- T2 : Dephasing Time <br>\n",
    "\n",
    "T2 < 2T1\n"
   ]
  },
  {
   "cell_type": "code",
   "execution_count": null,
   "metadata": {},
   "outputs": [],
   "source": [
    "# ms 단위\n",
    "T1s = 2000\n",
    "T2s = 3000\n",
    "\n",
    "# 연산 시간 (설정)\n",
    "time_u1 = 0\n",
    "time_u2 = 50\n",
    "time_u3 = 100\n",
    "time_cx = 300\n",
    "time_reset = 1000\n",
    "time_meas = 1000\n",
    "\n",
    "# QuantumError objects\n",
    "errors_reset = thermal_relaxation_error(T1s, T2s, time_reset)\n",
    "errors_measure = thermal_relaxation_error(T1s, T2s, time_meas)\n",
    "errors_u1 = thermal_relaxation_error(T1s, T2s, time_u1)\n",
    "errors_u2 = thermal_relaxation_error(T1s, T2s, time_u2)\n",
    "errors_u3 = thermal_relaxation_error(T1s, T2s, time_cx)\n",
    "errors_cx = thermal_relaxation_error(T1s, T2s, time_cx).expand(\n",
    "    thermal_relaxation_error(T1s, T2s, time_cx)\n",
    ")\n",
    "\n",
    "\n",
    "noise_thermal = NoiseModel()\n",
    "\n",
    "for j in range(2):\n",
    "    noise_thermal.add_quantum_error(errors_reset, \"reset\", [j])\n",
    "    noise_thermal.add_quantum_error(errors_measure, \"measure\", [j])\n",
    "    noise_thermal.add_quantum_error(errors_u1, \"u1\", [j])\n",
    "    noise_thermal.add_quantum_error(errors_u2, \"u2\", [j])\n",
    "    noise_thermal.add_quantum_error(errors_u3, \"u3\", [j])\n",
    "\n",
    "noise_thermal.add_quantum_error(errors_cx, \"cx\", [0, 1])\n",
    "noise_thermal.add_quantum_error(errors_cx, \"cx\", [1, 0])\n",
    "\n",
    "print(noise_thermal)\n"
   ]
  },
  {
   "cell_type": "code",
   "execution_count": null,
   "metadata": {},
   "outputs": [],
   "source": [
    "sim_thermal = AerSimulator(noise_model=noise_thermal)\n",
    "\n",
    "transpile_thermal = transpile(qc, sim_thermal)\n",
    "\n",
    "result_thermal = sim_thermal.run(transpile_thermal).result()\n",
    "counts_thermal = result_thermal.get_counts(0)\n",
    "\n",
    "plot_histogram(counts_thermal)"
   ]
  },
  {
   "cell_type": "markdown",
   "metadata": {},
   "source": [
    "## Part 4: IBM Quantum Platform 연결"
   ]
  },
  {
   "cell_type": "code",
   "execution_count": null,
   "metadata": {},
   "outputs": [],
   "source": [
    "from qiskit_ibm_runtime import QiskitRuntimeService\n",
    "\n",
    "service = QiskitRuntimeService.save_account(channel=\"ibm_quantum_platform\", \n",
    "                                            token=\"<API_TOKEN>\", \n",
    "                                            instance=\"<CRN for premium>\", \n",
    "                                            name=\"premium\")\n",
    "# service = QiskitRuntimeService.save_account(channel=\"ibm_quantum_platform\", \n",
    "#                                             token=\"<API_TOKEN>\", \n",
    "#                                             instance=\"<CRN for open>\", \n",
    "#                                             name=\"open\")\n",
    " "
   ]
  },
  {
   "cell_type": "code",
   "execution_count": null,
   "metadata": {},
   "outputs": [],
   "source": [
    "service.backends()"
   ]
  },
  {
   "cell_type": "code",
   "execution_count": null,
   "metadata": {},
   "outputs": [],
   "source": [
    "backend_real = service.backend(\"ibm_yonsei\")"
   ]
  },
  {
   "cell_type": "markdown",
   "metadata": {},
   "source": [
    "## Part 5. Transpile"
   ]
  },
  {
   "cell_type": "markdown",
   "metadata": {},
   "source": [
    "### [Qiskit 트랜스파일 단계](https://quantum.cloud.ibm.com/docs/guides/transpiler-stages)\n",
    "\n",
    "| 단계 (Stage)   | 설명|\n",
    "|-|-|\n",
    "| **Init**       | 초기 전처리 단계. 대부분 기본적으로는 동작 없음. 단, 2큐빗 이상 게이트를 1–2큐빗 게이트로 분해하는 역할도 수행. 사용자가 커스텀 최적화를 추가할 수 있음. |\n",
    "| **Layout**     | 논리 큐빗을 실제 하드웨어 큐빗에 매핑. SWAP 게이트 최소화 및 에러율 낮은 물리 큐빗 선택이 목표. |\n",
    "| **Routing**    | 물리적으로 연결되지 않은 큐빗 사이의 2큐빗 게이트를 실행하기 위해 SWAP 게이트를 삽입. |\n",
    "| **Translation**| 하드웨어가 지원하는 기본 게이트셋(basis gates)으로 회로를 변환. 예: `u3` → `rz`, `sx`, `x` 조합. |\n",
    "| **Optimization** | 게이트 수, 회로 깊이, 에러율 등을 줄이는 최적화 패스 적용. 최적화 레벨에 따라 강도와 비용 달라짐. |\n",
    "| **Scheduling** | 게이트 실행 시간을 고려해 회로를 스케줄링. 게이트 타이밍/병렬 실행 고려하여 실제 하드웨어에서 실행 가능하게 만듦. |\n"
   ]
  },
  {
   "cell_type": "code",
   "execution_count": null,
   "metadata": {},
   "outputs": [],
   "source": [
    "from qiskit_ibm_runtime.fake_provider import FakeAuckland\n",
    "from qiskit.transpiler import generate_preset_pass_manager\n",
    "from qiskit.visualization import plot_circuit_layout\n",
    "from qiskit import QuantumCircuit\n",
    "import matplotlib.pyplot as plt\n",
    "\n",
    "backend = FakeAuckland()\n",
    "\n",
    "pm = generate_preset_pass_manager(\n",
    "    optimization_level=0,\n",
    "    backend=backend,\n",
    "    layout_method='trivial',\n",
    "    # layout_method='sabre',\n",
    "    # layout_method='dense',\n",
    ")\n",
    "\n",
    "ghz = QuantumCircuit(9)\n",
    "\n",
    "ghz.h(0)\n",
    "\n",
    "for i in range(8):\n",
    "    ghz.cx(i,i+1)\n",
    "\n",
    "ghz_pm = pm.run(ghz)\n",
    "\n",
    "# plot_circuit_layout(ghz_pm, backend)"
   ]
  },
  {
   "cell_type": "markdown",
   "metadata": {},
   "source": [
    "위의 코드(plot_circuit_layout)를 실행하기 위해서는, [Graphviz](https://graphviz.org/download/)설치가 필요합니다. 설치 후 visual studio code를 재시작해야합니다."
   ]
  },
  {
   "cell_type": "code",
   "execution_count": null,
   "metadata": {},
   "outputs": [],
   "source": [
    "pm.run(ghz).depth()"
   ]
  },
  {
   "cell_type": "code",
   "execution_count": null,
   "metadata": {},
   "outputs": [],
   "source": [
    "depths = []\n",
    "for _ in range(500):\n",
    "    depths.append(pm.run(ghz).depth())\n",
    "\n",
    "plt.hist(depths)\n",
    "plt.ylabel(\"Counts\")\n",
    "plt.xlabel(\"Depth\")"
   ]
  },
  {
   "cell_type": "code",
   "execution_count": null,
   "metadata": {},
   "outputs": [],
   "source": [
    "from qiskit_ibm_runtime.fake_provider import FakeWashingtonV2\n",
    "\n",
    "backend = FakeWashingtonV2()\n",
    "\n",
    "pm_idle = generate_preset_pass_manager(\n",
    "    optimization_level=3,\n",
    "    backend=backend,\n",
    "    scheduling_method='asap'\n",
    "    # scheduling_method='alap'\n",
    ")\n",
    "\n",
    "ghz_idle = pm_idle.run(ghz)\n",
    "ghz_idle.draw(output='mpl', idle_wires=False, )"
   ]
  },
  {
   "cell_type": "markdown",
   "metadata": {},
   "source": [
    "### 5.1 Optimization"
   ]
  },
  {
   "cell_type": "code",
   "execution_count": null,
   "metadata": {},
   "outputs": [],
   "source": [
    "qc = QuantumCircuit(2)\n",
    "\n",
    "qc.h(0)\n",
    "qc.cx(0, 1)\n",
    "qc.cx(0, 1)\n",
    "\n",
    "qc.draw('mpl')"
   ]
  },
  {
   "cell_type": "code",
   "execution_count": null,
   "metadata": {},
   "outputs": [],
   "source": [
    "pm= generate_preset_pass_manager(\n",
    "    # optimization_level=0,\n",
    "    optimization_level=1,\n",
    "    backend=backend,\n",
    ")\n",
    "\n",
    "qc_pm = pm.run(qc)\n",
    "\n",
    "qc_pm.draw('mpl')"
   ]
  },
  {
   "cell_type": "markdown",
   "metadata": {},
   "source": [
    "### 5.3 Error Mitigation (Resilience Level)"
   ]
  },
  {
   "cell_type": "markdown",
   "metadata": {},
   "source": [
    "    - Sampler & Estimator\n",
    "\n",
    "        Sampler : 회로 실행 분포\n",
    "        Estimator : Observable의 기댓값"
   ]
  },
  {
   "cell_type": "markdown",
   "metadata": {},
   "source": [
    "| Resilience Level | Definition                                                                 | Technique                                               |\n",
    "|------------------|-----------------------------------------------------------------------------|---------------------------------------------------------|\n",
    "| 0                | No mitigation                                                              | None                                                    |\n",
    "| 1 [Default]      | Minimal mitigation costs: Mitigate error associated with readout errors     | Twirled Readout Error eXtinction (TREX), measurement twirling |\n",
    "| 2                | Medium mitigation costs. Typically reduces bias in estimators, but is not guaranteed to be zero-bias. | Level 1 + Zero Noise Extrapolation (ZNE) and gate twirling |\n"
   ]
  },
  {
   "cell_type": "markdown",
   "metadata": {},
   "source": [
    "#### Ising Model 비교"
   ]
  },
  {
   "cell_type": "markdown",
   "metadata": {},
   "source": [
    "$$\n",
    "H = Z \\otimes Z \\\\\n",
    "H |00\\rangle = |00\\rangle \\\\\n",
    "H |11\\rangle = |11\\rangle \\\\\n",
    "H |01\\rangle = -|01\\rangle \\\\\n",
    "H |10\\rangle = -|10\\rangle \\\\\n",
    "$$"
   ]
  },
  {
   "cell_type": "code",
   "execution_count": null,
   "metadata": {},
   "outputs": [],
   "source": [
    "from qiskit.quantum_info import SparsePauliOp\n",
    "\n",
    "H = SparsePauliOp.from_list([(\"ZZ\", 1.0)])\n",
    "\n",
    "H"
   ]
  },
  {
   "cell_type": "code",
   "execution_count": null,
   "metadata": {},
   "outputs": [],
   "source": [
    "from qiskit_ibm_runtime import EstimatorV2 as Estimator\n",
    "\n",
    "estimator = Estimator(backend)"
   ]
  },
  {
   "cell_type": "code",
   "execution_count": null,
   "metadata": {},
   "outputs": [],
   "source": [
    "# 00 상태:\n",
    "qc = QuantumCircuit(2)\n",
    "qc.x(0)\n",
    "qc.x(1)\n",
    "\n",
    "job = estimator.run([(qc, H)])\n",
    "result = job.result()[0]\n",
    "\n",
    "print(result.data.evs)\n"
   ]
  },
  {
   "cell_type": "code",
   "execution_count": null,
   "metadata": {},
   "outputs": [],
   "source": [
    "pm = generate_preset_pass_manager(backend=backend,\n",
    "                                  optimization_level=2,\n",
    "                                  )\n",
    "qc_pm = pm.run(qc)\n",
    "H_pm = H.apply_layout(qc_pm.layout)\n",
    "\n",
    "job = estimator.run([(qc_pm, H_pm)])\n",
    "result = job.result()[0]\n",
    "\n",
    "print(result.data.evs)\n"
   ]
  },
  {
   "cell_type": "code",
   "execution_count": null,
   "metadata": {},
   "outputs": [],
   "source": [
    "qc_pm.draw('mpl')"
   ]
  },
  {
   "cell_type": "markdown",
   "metadata": {},
   "source": [
    "#### Resilience"
   ]
  },
  {
   "cell_type": "code",
   "execution_count": null,
   "metadata": {},
   "outputs": [],
   "source": [
    "estimator = Estimator(backend,\n",
    "                      options={\"resilience_level\" : 0})\n",
    "\n",
    "job = estimator.run([(qc_pm, H_pm)])\n",
    "result = job.result()[0]\n",
    "\n",
    "print(result.data.evs)"
   ]
  }
 ],
 "metadata": {
  "kernelspec": {
   "display_name": ".venv",
   "language": "python",
   "name": "python3"
  },
  "language_info": {
   "codemirror_mode": {
    "name": "ipython",
    "version": 3
   },
   "file_extension": ".py",
   "mimetype": "text/x-python",
   "name": "python",
   "nbconvert_exporter": "python",
   "pygments_lexer": "ipython3",
   "version": "3.10.10"
  }
 },
 "nbformat": 4,
 "nbformat_minor": 4
}
