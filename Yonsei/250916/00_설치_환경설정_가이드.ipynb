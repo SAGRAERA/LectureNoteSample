{
 "cells": [
  {
   "cell_type": "markdown",
   "metadata": {},
   "source": [
    "# Session 0: 설치 및 환경 설정 가이드\n",
    "\n",
    "## 🎯 목표\n",
    "- Python 설치 및 확인\n",
    "- VS Code 설치 및 설정\n",
    "- Qiskit 설치 및 테스트\n",
    "- 문제 해결 가이드"
   ]
  },
  {
   "cell_type": "markdown",
   "metadata": {},
   "source": [
    "## Step 0: 설정 가이드"
   ]
  },
  {
   "cell_type": "markdown",
   "metadata": {},
   "source": [
    "<div style=\"border:2px solid green; padding:10px; background:#d4edda; color:black\">\n",
    "    이 단계는 설치 및 환경 설정 가이드를 도와주는 프로그램을 설정하는 것으로 <b>다음 단계</b>로 넘어가셔도 됩니다.\n",
    "</div>"
   ]
  },
  {
   "cell_type": "markdown",
   "metadata": {},
   "source": [
    "### 1. 쉬운 설치 법\n",
    "\n",
    "1. [Qiskit 자동 설치 도우미 프로그램](https://github.com/SAGRAERA/Automatic-Qiskit-Setup-Tool) 접속.\n",
    "2. 우측의 Realeses `Qiskit Auto Setup` 클릭.\n",
    "3. Qiskit.Auto.Setup.for.Education.1.0.0.exe 다운로드.\n",
    "4. 프로그램 실행 후 설명 대로 진행."
   ]
  },
  {
   "cell_type": "markdown",
   "metadata": {},
   "source": [
    "<div style=\"border:2px solid orange; padding:10px; background:#fff3cd; color:black;\">\n",
    "    환경 설정이나 Qiskit 설치 없이 온라인으로 진행할 수도 있습니다.\n",
    "</div>"
   ]
  },
  {
   "cell_type": "markdown",
   "metadata": {},
   "source": [
    "\n",
    "### 2. 무설치 방법 \n",
    "\n",
    "1. [Qbraid](https://www.qbraid.com/) 회원 가입 후 진행.\n",
    "2. [구글 코랩](https://colab.research.google.com/?hl=ko) 에서 진행."
   ]
  },
  {
   "cell_type": "markdown",
   "metadata": {},
   "source": [
    "## Step 1: Python 설치 확인 및 설치\n",
    "\n",
    "### 1.1 Python 버전 확인"
   ]
  },
  {
   "cell_type": "code",
   "execution_count": null,
   "metadata": {},
   "outputs": [],
   "source": [
    "# Python이 설치되어 있는지 확인\n",
    "import sys\n",
    "print(\"Python 버전:\", sys.version)\n",
    "print(\"Python 경로:\", sys.executable)\n",
    "\n",
    "# 버전 확인\n",
    "version_info = sys.version_info\n",
    "print(f\"\\n상세 버전: {version_info.major}.{version_info.minor}.{version_info.micro}\")\n",
    "\n",
    "# Qiskit 권장 버전 체크\n",
    "if version_info.major == 3 and version_info.minor >= 8:\n",
    "    print(\"✅ Python 버전이 적합합니다! (3.8 이상)\")\n",
    "else:\n",
    "    print(\"⚠️ Python 3.8 이상이 필요합니다. 업그레이드를 권장합니다.\")"
   ]
  },
  {
   "cell_type": "markdown",
   "metadata": {},
   "source": [
    "### 1.2 Python이 없다면? 설치 가이드\n",
    "\n",
    "#### Windows 사용자:\n",
    "1. https://www.python.org/downloads/ 접속\n",
    "2. \"Download Python 3.11.x\" 클릭 (최신 안정 버전)\n",
    "3. 설치 시 **\"Add Python to PATH\" 체크 필수!**\n",
    "4. \"Install Now\" 클릭\n",
    "\n",
    "#### Mac 사용자:\n",
    "```bash\n",
    "# Homebrew가 있다면\n",
    "brew install python@3.11\n",
    "\n",
    "# 또는 공식 사이트에서 다운로드\n",
    "```\n",
    "\n",
    "#### Linux 사용자:\n",
    "```bash\n",
    "sudo apt update\n",
    "sudo apt install python3.11 python3-pip\n",
    "```"
   ]
  },
  {
   "cell_type": "markdown",
   "metadata": {},
   "source": [
    "### 1.3 pip 확인 및 업그레이드"
   ]
  },
  {
   "cell_type": "code",
   "execution_count": null,
   "metadata": {},
   "outputs": [],
   "source": [
    "# pip 버전 확인\n",
    "import subprocess\n",
    "import sys\n",
    "\n",
    "def check_pip():\n",
    "    try:\n",
    "        result = subprocess.run([sys.executable, \"-m\", \"pip\", \"--version\"], \n",
    "                              capture_output=True, text=True)\n",
    "        print(\"pip 정보:\")\n",
    "        print(result.stdout)\n",
    "        return True\n",
    "    except:\n",
    "        print(\"❌ pip가 설치되지 않았습니다.\")\n",
    "        return False\n",
    "\n",
    "if check_pip():\n",
    "    print(\"\\n✅ pip가 정상적으로 설치되어 있습니다.\")\n",
    "    print(\"\\npip 업그레이드 명령어:\")\n",
    "    print(f\"{sys.executable} -m pip install --upgrade pip\")"
   ]
  },
  {
   "cell_type": "markdown",
   "metadata": {},
   "source": [
    "## Step 2: VS Code 설치 및 설정\n",
    "\n",
    "### 2.1 VS Code 설치\n",
    "\n",
    "1. **다운로드**: https://code.visualstudio.com/\n",
    "2. **설치**: 기본 설정으로 설치\n",
    "3. **중요 옵션**: \n",
    "   - \"Add to PATH\" 체크\n",
    "   - \"Register Code as an editor\" 체크\n",
    "\n",
    "### 2.2 필수 확장 프로그램 설치\n",
    "\n",
    "VS Code 실행 후 Extensions (Ctrl+Shift+X) 에서 설치:\n",
    "\n",
    "1. **Python** (Microsoft)\n",
    "2. **Jupyter** (Microsoft)\n",
    "3. **Pylance** (Microsoft)\n",
    "\n",
    "### 2.3 Python 인터프리터 선택\n",
    "\n",
    "1. Ctrl+Shift+P → \"Python: Select Interpreter\"\n",
    "2. 설치한 Python 버전 선택"
   ]
  },
  {
   "cell_type": "markdown",
   "metadata": {},
   "source": [
    "## Step 3: 가상 환경 생성 (권장)\n",
    "\n",
    "### 3.1 가상 환경이란?\n",
    "프로젝트별로 독립된 Python 환경을 만들어 패키지 충돌을 방지"
   ]
  },
  {
   "cell_type": "code",
   "execution_count": null,
   "metadata": {},
   "outputs": [],
   "source": [
    "# 가상 환경 생성 명령어 생성\n",
    "import os\n",
    "import sys\n",
    "\n",
    "print(\"가상 환경 생성 및 활성화 명령어:\")\n",
    "print(\"=\"*50)\n",
    "\n",
    "if sys.platform == \"win32\":\n",
    "    print(\"Windows:\")\n",
    "    print(\"1. 생성: python -m venv quantum_env\")\n",
    "    print(\"2. 활성화: quantum_env\\\\Scripts\\\\activate\")\n",
    "    print(\"3. 비활성화: deactivate\")\n",
    "elif sys.platform == \"darwin\":\n",
    "    print(\"Mac:\")\n",
    "    print(\"1. 생성: python3 -m venv quantum_env\")\n",
    "    print(\"2. 활성화: source quantum_env/bin/activate\")\n",
    "    print(\"3. 비활성화: deactivate\")\n",
    "else:\n",
    "    print(\"Linux:\")\n",
    "    print(\"1. 생성: python3 -m venv quantum_env\")\n",
    "    print(\"2. 활성화: source quantum_env/bin/activate\")\n",
    "    print(\"3. 비활성화: deactivate\")\n",
    "\n",
    "print(\"\\n💡 팁: 가상 환경이 활성화되면 프롬프트에 (quantum_env)가 표시됩니다.\")"
   ]
  },
  {
   "cell_type": "markdown",
   "metadata": {},
   "source": [
    "## Step 4: Qiskit 설치\n",
    "\n",
    "### 4.1 Qiskit 설치 명령어"
   ]
  },
  {
   "cell_type": "code",
   "execution_count": null,
   "metadata": {},
   "outputs": [],
   "source": [
    "# Qiskit 설치 명령어 표시\n",
    "import sys\n",
    "\n",
    "print(\"Qiskit 설치 명령어:\")\n",
    "print(\"=\"*50)\n",
    "\n",
    "# 기본 설치\n",
    "print(\"\\n1. 기본 설치 (권장):\")\n",
    "print(f\"{sys.executable} -m pip install qiskit qiskit-ibm-runtime matplotlib pylatexenc\")\n",
    "\n",
    "# 전체 설치\n",
    "print(\"\\n2. 추가 패키지 포함:\")\n",
    "print(f\"{sys.executable} -m pip install qiskit[all]\")\n",
    "\n",
    "# 업그레이드\n",
    "print(\"\\n3. 업그레이드:\")\n",
    "print(f\"{sys.executable} -m pip install --upgrade qiskit\")\n",
    "\n",
    "print(\"\\n⚠️ 주의: 설치에 5-10분 정도 소요될 수 있습니다.\")"
   ]
  },
  {
   "cell_type": "markdown",
   "metadata": {},
   "source": [
    "### 4.2 설치 확인"
   ]
  },
  {
   "cell_type": "code",
   "execution_count": null,
   "metadata": {},
   "outputs": [],
   "source": [
    "# Qiskit 설치 확인\n",
    "def check_qiskit_installation():\n",
    "    packages = {\n",
    "        'qiskit': None,\n",
    "        'qiskit_ibm_runtime': None,\n",
    "        'matplotlib': None,\n",
    "        'numpy': None\n",
    "    }\n",
    "    \n",
    "    print(\"패키지 설치 확인:\")\n",
    "    print(\"=\"*50)\n",
    "    \n",
    "    for package_name in packages:\n",
    "        try:\n",
    "            if package_name == 'qiskit_ibm_runtime':\n",
    "                import qiskit_ibm_runtime\n",
    "                packages[package_name] = qiskit_ibm_runtime.__version__\n",
    "            else:\n",
    "                module = __import__(package_name)\n",
    "                packages[package_name] = module.__version__\n",
    "            print(f\"✅ {package_name:20} : {packages[package_name]}\")\n",
    "        except ImportError:\n",
    "            print(f\"❌ {package_name:20} : 설치 필요\")\n",
    "    \n",
    "    return packages\n",
    "\n",
    "installed_packages = check_qiskit_installation()"
   ]
  },
  {
   "cell_type": "markdown",
   "metadata": {},
   "source": [
    "## Step 5: Qiskit 테스트\n",
    "\n",
    "### 5.1 간단한 회로 테스트"
   ]
  },
  {
   "cell_type": "code",
   "execution_count": null,
   "metadata": {},
   "outputs": [],
   "source": [
    "# Qiskit 기본 동작 테스트\n",
    "try:\n",
    "    from qiskit import QuantumCircuit\n",
    "    import matplotlib.pyplot as plt\n",
    "    \n",
    "    # 간단한 Bell State 회로 생성\n",
    "    qc = QuantumCircuit(2, 2)\n",
    "    qc.h(0)\n",
    "    qc.cx(0, 1)\n",
    "    qc.measure([0, 1], [0, 1])\n",
    "    \n",
    "    print(\"✅ Qiskit 회로 생성 성공!\")\n",
    "    print(\"\\n생성된 회로:\")\n",
    "    print(qc.draw(output='text'))\n",
    "    \n",
    "    # 회로 그리기 테스트\n",
    "    fig = qc.draw(output='mpl')\n",
    "    plt.show()\n",
    "    print(\"\\n✅ 회로 시각화 성공!\")\n",
    "    \n",
    "except ImportError as e:\n",
    "    print(f\"❌ 오류 발생: {e}\")\n",
    "    print(\"Qiskit을 설치해주세요.\")\n",
    "except Exception as e:\n",
    "    print(f\"⚠️ 예상치 못한 오류: {e}\")"
   ]
  },
  {
   "cell_type": "markdown",
   "metadata": {},
   "source": [
    "### 5.2 시뮬레이터 테스트"
   ]
  },
  {
   "cell_type": "code",
   "execution_count": null,
   "metadata": {},
   "outputs": [],
   "source": [
    "# 시뮬레이터 테스트\n",
    "try:\n",
    "    from qiskit_ibm_runtime import SamplerV2 as Sampler\n",
    "    from qiskit_ibm_runtime.fake_provider import FakeKolkataV2\n",
    "    from qiskit import transpile\n",
    "    from qiskit.visualization import plot_histogram\n",
    "    \n",
    "    # 백엔드 설정\n",
    "    backend = FakeKolkataV2()\n",
    "    sampler = Sampler(backend)\n",
    "    \n",
    "    # 회로 실행\n",
    "    transpiled = transpile(qc, backend)\n",
    "    job = sampler.run([(transpiled, [])], shots=1000)\n",
    "    result = job.result()\n",
    "    counts = result[0].data.c.get_counts()\n",
    "    \n",
    "    print(\"✅ 시뮬레이터 실행 성공!\")\n",
    "    print(f\"\\n측정 결과: {counts}\")\n",
    "    \n",
    "    # 히스토그램 표시\n",
    "    plot_histogram(counts)\n",
    "    plt.show()\n",
    "    \n",
    "except Exception as e:\n",
    "    print(f\"⚠️ 시뮬레이터 오류: {e}\")\n",
    "    print(\"\\n대체 방법:\")\n",
    "    print(\"from qiskit.primitives import Sampler 사용\")"
   ]
  },
  {
   "cell_type": "markdown",
   "metadata": {},
   "source": [
    "## Step 6: 자주 발생하는 문제 해결\n",
    "\n",
    "### 6.1 일반적인 오류와 해결방법"
   ]
  },
  {
   "cell_type": "code",
   "execution_count": null,
   "metadata": {},
   "outputs": [],
   "source": [
    "# 문제 해결 가이드\n",
    "print(\"🔧 자주 발생하는 문제와 해결 방법\")\n",
    "print(\"=\"*60)\n",
    "\n",
    "problems = [\n",
    "    {\n",
    "        \"문제\": \"ModuleNotFoundError: No module named 'qiskit'\",\n",
    "        \"원인\": \"Qiskit이 설치되지 않음\",\n",
    "        \"해결\": \"pip install qiskit\"\n",
    "    },\n",
    "    {\n",
    "        \"문제\": \"ImportError: cannot import name 'SamplerV2'\",\n",
    "        \"원인\": \"qiskit-ibm-runtime이 없거나 버전이 낮음\",\n",
    "        \"해결\": \"pip install --upgrade qiskit-ibm-runtime\"\n",
    "    },\n",
    "    {\n",
    "        \"문제\": \"No module named 'matplotlib'\",\n",
    "        \"원인\": \"matplotlib가 설치되지 않음\",\n",
    "        \"해결\": \"pip install matplotlib\"\n",
    "    },\n",
    "    {\n",
    "        \"문제\": \"회로가 그려지지 않음\",\n",
    "        \"원인\": \"pylatexenc 패키지 누락\",\n",
    "        \"해결\": \"pip install pylatexenc\"\n",
    "    },\n",
    "    {\n",
    "        \"문제\": \"pip install이 작동하지 않음\",\n",
    "        \"원인\": \"PATH 설정 문제\",\n",
    "        \"해결\": \"python -m pip install [패키지명]\"\n",
    "    },\n",
    "    {\n",
    "        \"문제\": \"Permission denied 오류\",\n",
    "        \"원인\": \"권한 부족\",\n",
    "        \"해결\": \"pip install --user [패키지명]\"\n",
    "    }\n",
    "]\n",
    "\n",
    "for i, p in enumerate(problems, 1):\n",
    "    print(f\"\\n{i}. {p['문제']}\")\n",
    "    print(f\"   원인: {p['원인']}\")\n",
    "    print(f\"   해결: {p['해결']}\")"
   ]
  },
  {
   "cell_type": "markdown",
   "metadata": {},
   "source": [
    "### 6.2 시스템 정보 수집 (문제 해결용)"
   ]
  },
  {
   "cell_type": "code",
   "execution_count": null,
   "metadata": {},
   "outputs": [],
   "source": [
    "# 시스템 정보 수집\n",
    "import sys\n",
    "import platform\n",
    "\n",
    "print(\"시스템 정보 (문제 해결 시 참고)\")\n",
    "print(\"=\"*60)\n",
    "\n",
    "info = {\n",
    "    \"운영체제\": platform.system(),\n",
    "    \"OS 버전\": platform.version(),\n",
    "    \"프로세서\": platform.processor(),\n",
    "    \"Python 버전\": sys.version,\n",
    "    \"Python 경로\": sys.executable,\n",
    "    \"플랫폼\": sys.platform\n",
    "}\n",
    "\n",
    "for key, value in info.items():\n",
    "    print(f\"{key:15}: {value}\")\n",
    "\n",
    "print(\"\\n설치된 패키지 목록 확인:\")\n",
    "print(f\"{sys.executable} -m pip list\")"
   ]
  },
  {
   "cell_type": "markdown",
   "metadata": {},
   "source": [
    "## Step 7: IBM Quantum 계정 설정 (선택사항)\n",
    "\n",
    "### 7.1 계정 생성\n",
    "1. https://quantum.cloud.ibm.com 접속\n",
    "2. 무료 계정 생성\n",
    "3. API 토큰 발급\n",
    "\n",
    "### 7.2 토큰 저장"
   ]
  },
  {
   "cell_type": "code",
   "execution_count": null,
   "metadata": {},
   "outputs": [],
   "source": [
    "# IBM Quantum 계정 설정 (실제 토큰으로 교체 필요)\n",
    "def setup_ibm_account():\n",
    "    print(\"IBM Quantum 계정 설정 방법:\")\n",
    "    print(\"=\"*60)\n",
    "    print(\"\\n1. API 토큰 저장:\")\n",
    "    print(\"\"\"from qiskit_ibm_runtime import QiskitRuntimeService\n",
    "\n",
    "# 토큰 저장 (처음 한 번만)\n",
    "QiskitRuntimeService.save_account(\n",
    "    channel='ibm_quantum',\n",
    "    token='YOUR_API_TOKEN_HERE',\n",
    "    set_as_default=True\n",
    ")\"\"\")\n",
    "    \n",
    "    print(\"\\n2. 저장된 계정 사용:\")\n",
    "    print(\"\"\"# 이후 사용 시\n",
    "service = QiskitRuntimeService()\n",
    "backend = service.least_busy(operational=True, simulator=False)\"\"\")\n",
    "    \n",
    "    print(\"\\n⚠️ 주의: API 토큰은 비밀번호처럼 관리하세요!\")\n",
    "    print(\"GitHub 등에 업로드하지 마세요.\")\n",
    "\n",
    "setup_ibm_account()"
   ]
  },
  {
   "cell_type": "markdown",
   "metadata": {},
   "source": [
    "## Step 8: 최종 체크리스트"
   ]
  },
  {
   "cell_type": "code",
   "execution_count": null,
   "metadata": {},
   "outputs": [],
   "source": [
    "# 최종 설치 확인\n",
    "print(\"✅ 설치 완료 체크리스트\")\n",
    "print(\"=\"*60)\n",
    "\n",
    "checklist = [\n",
    "    \"Python 3.8+ 설치\",\n",
    "    \"pip 설치 및 업그레이드\",\n",
    "    \"VS Code 설치\",\n",
    "    \"Python 확장 설치\",\n",
    "    \"가상 환경 생성 (선택)\",\n",
    "    \"Qiskit 설치\",\n",
    "    \"matplotlib 설치\",\n",
    "    \"간단한 회로 테스트\",\n",
    "    \"시뮬레이터 테스트\",\n",
    "    \"IBM Quantum 계정 (선택)\"\n",
    "]\n",
    "\n",
    "for i, item in enumerate(checklist, 1):\n",
    "    print(f\"  [{i:2}] {item}\")\n",
    "\n",
    "print(\"\\n🎉 모든 설정이 완료되면 Session 1으로 진행하세요!\")\n",
    "print(\"\\n💡 도움이 필요하면:\")\n",
    "print(\"  - Qiskit Slack: https://qiskit.slack.com\")\n",
    "print(\"  - Stack Overflow: [qiskit] 태그\")\n",
    "print(\"  - GitHub Issues: https://github.com/Qiskit/qiskit/issues\")"
   ]
  },
  {
   "cell_type": "markdown",
   "metadata": {},
   "source": [
    "## 부록: 빠른 설치 스크립트\n",
    "\n",
    "### 모든 것을 한 번에 설치 (가상 환경 포함)"
   ]
  },
  {
   "cell_type": "code",
   "execution_count": null,
   "metadata": {},
   "outputs": [],
   "source": [
    "# 원클릭 설치 스크립트 생성\n",
    "import sys\n",
    "import os\n",
    "\n",
    "script_content = f\"\"\"#!/usr/bin/env python\n",
    "# Qiskit 빠른 설치 스크립트\n",
    "\n",
    "import subprocess\n",
    "import sys\n",
    "import os\n",
    "\n",
    "def install_qiskit():\n",
    "    print(\"Qiskit 설치를 시작합니다...\")\n",
    "    \n",
    "    # 가상 환경 생성\n",
    "    print(\"1. 가상 환경 생성 중...\")\n",
    "    subprocess.run([sys.executable, \"-m\", \"venv\", \"quantum_env\"])\n",
    "    \n",
    "    # 가상 환경 활성화 경로\n",
    "    if sys.platform == \"win32\":\n",
    "        pip_path = os.path.join(\"quantum_env\", \"Scripts\", \"pip\")\n",
    "    else:\n",
    "        pip_path = os.path.join(\"quantum_env\", \"bin\", \"pip\")\n",
    "    \n",
    "    # 패키지 설치\n",
    "    packages = [\n",
    "        \"qiskit\",\n",
    "        \"qiskit-ibm-runtime\",\n",
    "        \"matplotlib\",\n",
    "        \"pylatexenc\",\n",
    "        \"jupyter\",\n",
    "        \"ipykernel\"\n",
    "    ]\n",
    "    \n",
    "    print(\"2. 패키지 설치 중...\")\n",
    "    for package in packages:\n",
    "        print(f\"   - {{package}} 설치 중...\")\n",
    "        subprocess.run([pip_path, \"install\", package])\n",
    "    \n",
    "    print(\"\\n✅ 설치 완료!\")\n",
    "    print(\"\\n다음 명령으로 가상 환경을 활성화하세요:\")\n",
    "    if sys.platform == \"win32\":\n",
    "        print(\"   quantum_env\\\\Scripts\\\\activate\")\n",
    "    else:\n",
    "        print(\"   source quantum_env/bin/activate\")\n",
    "\n",
    "if __name__ == \"__main__\":\n",
    "    install_qiskit()\n",
    "\"\"\"\n",
    "\n",
    "# 스크립트 파일 생성\n",
    "with open(\"install_qiskit.py\", \"w\", encoding=\"utf-8\") as f:\n",
    "    f.write(script_content)\n",
    "\n",
    "print(\"빠른 설치 스크립트가 생성되었습니다: install_qiskit.py\")\n",
    "print(\"\\n실행 방법:\")\n",
    "print(f\"  {sys.executable} install_qiskit.py\")"
   ]
  },
  {
   "cell_type": "markdown",
   "metadata": {},
   "source": [
    "---\n",
    "\n",
    "## 🎊 축하합니다!\n",
    "\n",
    "환경 설정이 완료되었습니다. 이제 양자 컴퓨팅의 세계로 들어갈 준비가 되었습니다!\n",
    "\n",
    "**다음 단계**: `01_양자컴퓨팅_첫걸음.ipynb`로 이동하세요."
   ]
  }
 ],
 "metadata": {
  "kernelspec": {
   "display_name": "Python 3",
   "language": "python",
   "name": "python3"
  },
  "language_info": {
   "codemirror_mode": {
    "name": "ipython",
    "version": 3
   },
   "file_extension": ".py",
   "mimetype": "text/x-python",
   "name": "python",
   "nbconvert_exporter": "python",
   "pygments_lexer": "ipython3",
   "version": "3.9.0"
  }
 },
 "nbformat": 4,
 "nbformat_minor": 4
}
