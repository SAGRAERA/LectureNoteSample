{
 "cells": [
  {
   "cell_type": "markdown",
   "metadata": {},
   "source": [
    "# 부록 A: 파이썬 10분 속성 코스 🐍\n",
    "\n",
    "## 🎯 목표\n",
    "- 양자 컴퓨팅에 필요한 파이썬 기초 익히기\n",
    "- VS Code와 Jupyter 노트북 사용법\n",
    "- 10분 안에 코딩 시작하기!"
   ]
  },
  {
   "cell_type": "markdown",
   "metadata": {},
   "source": [
    "## Part 1: 파이썬 첫걸음\n",
    "\n",
    "### 1.1 계산기로 시작하기"
   ]
  },
  {
   "cell_type": "code",
   "execution_count": null,
   "metadata": {},
   "outputs": [],
   "source": [
    "# 계산기\n",
    "print(\"=== 기본 연산 ===\")\n",
    "\n",
    "# 덧셈\n",
    "print(\"2 + 3 =\", 2 + 3)\n",
    "\n",
    "# 뺄셈\n",
    "print(\"10 - 4 =\", 10 - 4)\n",
    "\n",
    "# 곱셈\n",
    "print(\"5 * 6 =\", 5 * 6)\n",
    "\n",
    "# 나눗셈\n",
    "print(\"15 / 3 =\", 15 / 3)\n",
    "\n",
    "# 거듭제곱\n",
    "print(\"2의 3제곱 =\", 2 ** 3)\n",
    "\n",
    "# 나머지\n",
    "print(\"10을 3으로 나눈 나머지 =\", 10 % 3)"
   ]
  },
  {
   "cell_type": "markdown",
   "metadata": {},
   "source": [
    "### 1.2 변수 = 값을 저장하는 상자"
   ]
  },
  {
   "cell_type": "code",
   "execution_count": null,
   "metadata": {},
   "outputs": [],
   "source": [
    "# 변수 만들기 (선언이 필요 없음!)\n",
    "나이 = 25\n",
    "이름 = \"김양자\"\n",
    "키 = 170.5\n",
    "\n",
    "print(f\"이름: {이름}\")\n",
    "print(f\"나이: {나이}살\")\n",
    "print(f\"키: {키}cm\")\n",
    "\n",
    "# 변수를 사용한 계산\n",
    "내년_나이 = 나이 + 1\n",
    "print(f\"내년에는 {내년_나이}살이 됩니다\")\n",
    "\n",
    "# 변수 값 바꾸기\n",
    "나이 = 나이 + 1  # 또는 나이 += 1\n",
    "print(f\"생일 지나서 {나이}살\")"
   ]
  },
  {
   "cell_type": "markdown",
   "metadata": {},
   "source": [
    "### 1.3 주석과 출력"
   ]
  },
  {
   "cell_type": "code",
   "execution_count": null,
   "metadata": {},
   "outputs": [],
   "source": [
    "# 이것은 주석입니다 - 실행되지 않아요\n",
    "# 코드를 설명할 때 사용합니다\n",
    "\n",
    "# print()로 화면에 출력\n",
    "print(\"안녕하세요!\")  # 문자열\n",
    "print(42)           # 숫자\n",
    "print(3.14)         # 소수\n",
    "\n",
    "# 여러 값을 한번에 출력\n",
    "print(\"답은\", 42, \"입니다\")\n",
    "\n",
    "# 줄바꿈 없이 출력\n",
    "print(\"첫번째\", end=\" \")\n",
    "print(\"두번째\")"
   ]
  },
  {
   "cell_type": "markdown",
   "metadata": {},
   "source": [
    "## Part 2: 자료형 - 데이터의 종류\n",
    "\n",
    "### 2.1 기본 자료형"
   ]
  },
  {
   "cell_type": "code",
   "execution_count": null,
   "metadata": {},
   "outputs": [],
   "source": [
    "# 1. 정수 (int)\n",
    "큐비트_수 = 5\n",
    "print(f\"정수: {큐비트_수}, 타입: {type(큐비트_수)}\")\n",
    "\n",
    "# 2. 실수 (float)\n",
    "확률 = 0.75\n",
    "print(f\"실수: {확률}, 타입: {type(확률)}\")\n",
    "\n",
    "# 3. 문자열 (str)\n",
    "게이트 = \"Hadamard\"\n",
    "print(f\"문자열: {게이트}, 타입: {type(게이트)}\")\n",
    "\n",
    "# 4. 불린 (bool) - 참/거짓\n",
    "측정완료 = True\n",
    "오류발생 = False\n",
    "print(f\"불린: {측정완료}, 타입: {type(측정완료)}\")\n",
    "\n",
    "# 타입 변환\n",
    "숫자_문자열 = \"123\"\n",
    "숫자 = int(숫자_문자열)  # 문자열을 정수로\n",
    "print(f\"'{숫자_문자열}' → {숫자}\")"
   ]
  },
  {
   "cell_type": "markdown",
   "metadata": {},
   "source": [
    "### 2.2 리스트 - 여러 값을 담는 상자"
   ]
  },
  {
   "cell_type": "code",
   "execution_count": null,
   "metadata": {},
   "outputs": [],
   "source": [
    "# 리스트 만들기 []\n",
    "측정결과 = [0, 1, 0, 1, 1]\n",
    "게이트목록 = [\"H\", \"X\", \"CNOT\", \"Z\"]\n",
    "혼합 = [42, \"hello\", 3.14, True]  # 여러 타입 가능\n",
    "\n",
    "print(\"측정결과:\", 측정결과)\n",
    "print(\"첫번째 결과:\", 측정결과[0])  # 인덱스는 0부터!\n",
    "print(\"마지막 결과:\", 측정결과[-1])  # -1은 마지막\n",
    "\n",
    "# 리스트 수정\n",
    "측정결과[0] = 1  # 첫번째 값 바꾸기\n",
    "측정결과.append(0)  # 끝에 추가\n",
    "print(\"수정된 결과:\", 측정결과)\n",
    "\n",
    "# 리스트 길이\n",
    "print(\"측정 횟수:\", len(측정결과))\n",
    "\n",
    "# 리스트 슬라이싱\n",
    "print(\"처음 3개:\", 측정결과[:3])\n",
    "print(\"2번째부터 4번째:\", 측정결과[1:4])"
   ]
  },
  {
   "cell_type": "markdown",
   "metadata": {},
   "source": [
    "### 2.3 튜플과 딕셔너리"
   ]
  },
  {
   "cell_type": "code",
   "execution_count": null,
   "metadata": {},
   "outputs": [],
   "source": [
    "# 튜플 () - 변경 불가능한 리스트\n",
    "큐비트_상태 = (0.707, 0.707)  # |+⟩ 상태\n",
    "print(\"큐비트 상태:\", 큐비트_상태)\n",
    "print(\"진폭1:\", 큐비트_상태[0])\n",
    "# 큐비트_상태[0] = 1  # 에러! 튜플은 수정 불가\n",
    "\n",
    "# 딕셔너리 {} - 키:값 쌍\n",
    "측정_통계 = {\n",
    "    \"0\": 523,\n",
    "    \"1\": 477\n",
    "}\n",
    "\n",
    "print(\"측정 통계:\", 측정_통계)\n",
    "print(\"0이 나온 횟수:\", 측정_통계[\"0\"])\n",
    "\n",
    "# 딕셔너리 수정\n",
    "측정_통계[\"0\"] = 525\n",
    "측정_통계[\"total\"] = 1000  # 새 키 추가\n",
    "print(\"수정된 통계:\", 측정_통계)"
   ]
  },
  {
   "cell_type": "markdown",
   "metadata": {},
   "source": [
    "## Part 3: 제어문과 함수\n",
    "\n",
    "### 3.1 조건문과 반복문"
   ]
  },
  {
   "cell_type": "code",
   "execution_count": null,
   "metadata": {},
   "outputs": [],
   "source": [
    "# if 조건문\n",
    "측정값 = 1\n",
    "\n",
    "if 측정값 == 0:\n",
    "    print(\"상태: |0⟩\")\n",
    "elif 측정값 == 1:\n",
    "    print(\"상태: |1⟩\")\n",
    "else:\n",
    "    print(\"오류!\")\n",
    "\n",
    "# for 반복문\n",
    "print(\"\\n5번 측정:\")\n",
    "for i in range(5):  # 0부터 4까지\n",
    "    print(f\"측정 {i+1}번째\")\n",
    "\n",
    "# 리스트 순회\n",
    "게이트들 = [\"H\", \"X\", \"Y\", \"Z\"]\n",
    "print(\"\\n게이트 목록:\")\n",
    "for 게이트 in 게이트들:\n",
    "    print(f\"- {게이트} 게이트\")\n",
    "\n",
    "# while 반복문\n",
    "카운트 = 0\n",
    "while 카운트 < 3:\n",
    "    print(f\"카운트: {카운트}\")\n",
    "    카운트 += 1"
   ]
  },
  {
   "cell_type": "markdown",
   "metadata": {},
   "source": [
    "### 3.2 함수 만들기"
   ]
  },
  {
   "cell_type": "code",
   "execution_count": null,
   "metadata": {},
   "outputs": [],
   "source": [
    "# 함수 정의\n",
    "def 인사하기(이름):\n",
    "    \"\"\"인사 메시지 출력\"\"\"\n",
    "    print(f\"안녕하세요, {이름}님!\")\n",
    "\n",
    "# 함수 호출\n",
    "인사하기(\"김양자\")\n",
    "\n",
    "# 반환값이 있는 함수\n",
    "def 확률_계산(성공횟수, 전체횟수):\n",
    "    \"\"\"성공 확률 계산\"\"\"\n",
    "    확률 = 성공횟수 / 전체횟수\n",
    "    return 확률\n",
    "\n",
    "결과 = 확률_계산(75, 100)\n",
    "print(f\"성공률: {결과:.1%}\")\n",
    "\n",
    "# 기본값이 있는 함수\n",
    "def 측정하기(횟수=1000):\n",
    "    print(f\"{횟수}번 측정 시작...\")\n",
    "\n",
    "측정하기()  # 기본값 사용\n",
    "측정하기(100)  # 값 지정"
   ]
  },
  {
   "cell_type": "markdown",
   "metadata": {},
   "source": [
    "## Part 4: 모듈과 도구\n",
    "\n",
    "### 4.1 모듈 불러오기"
   ]
  },
  {
   "cell_type": "code",
   "execution_count": null,
   "metadata": {},
   "outputs": [],
   "source": [
    "# 모듈 import하기\n",
    "import math  # 수학 함수들\n",
    "import random  # 난수 생성\n",
    "\n",
    "# 사용 예시\n",
    "print(\"파이:\", math.pi)\n",
    "print(\"제곱근:\", math.sqrt(2))\n",
    "print(\"랜덤 숫자:\", random.randint(0, 1))\n",
    "\n",
    "# 특정 함수만 가져오기\n",
    "from math import sin, cos\n",
    "print(\"sin(π/2):\", sin(math.pi/2))\n",
    "\n",
    "# 별칭 사용\n",
    "import numpy as np  # numpy를 np로 부르기\n",
    "배열 = np.array([1, 2, 3])\n",
    "print(\"NumPy 배열:\", 배열)\n",
    "\n",
    "# Qiskit 예시\n",
    "from qiskit import QuantumCircuit\n",
    "qc = QuantumCircuit(1)  # 1큐비트 회로\n",
    "print(\"양자 회로 생성 완료!\")"
   ]
  },
  {
   "cell_type": "markdown",
   "metadata": {},
   "source": [
    "### 4.2 VS Code 사용 팁"
   ]
  },
  {
   "cell_type": "code",
   "execution_count": null,
   "metadata": {},
   "outputs": [],
   "source": [
    "print(\"\"\"\n",
    "=== VS Code 핵심 단축키 ===\n",
    "\n",
    "📝 편집:\n",
    "• Ctrl+S: 저장\n",
    "• Ctrl+Z: 실행 취소\n",
    "• Ctrl+/: 주석 토글\n",
    "• Tab: 들여쓰기\n",
    "• Shift+Tab: 내어쓰기\n",
    "\n",
    "🏃 실행:\n",
    "• F5: 디버그 실행\n",
    "• Ctrl+F5: 일반 실행\n",
    "• Shift+Enter: 현재 줄 실행 (Python Interactive)\n",
    "\n",
    "🔍 탐색:\n",
    "• Ctrl+F: 찾기\n",
    "• Ctrl+Shift+P: 명령 팔레트\n",
    "• Ctrl+P: 파일 열기\n",
    "\n",
    "💡 유용한 기능:\n",
    "• 자동 완성: 타이핑하면 자동으로 제안\n",
    "• 마우스 올려두기: 함수 설명 보기\n",
    "• 빨간 밑줄: 오류 표시\n",
    "\"\"\")"
   ]
  },
  {
   "cell_type": "markdown",
   "metadata": {},
   "source": [
    "### 4.3 Jupyter 노트북 사용법"
   ]
  },
  {
   "cell_type": "code",
   "execution_count": null,
   "metadata": {},
   "outputs": [],
   "source": [
    "print(\"\"\"\n",
    "=== Jupyter 노트북 핵심 ===\n",
    "\n",
    "📦 셀 종류:\n",
    "• Code 셀: 파이썬 코드 실행\n",
    "• Markdown 셀: 설명 텍스트\n",
    "\n",
    "⌨️ 단축키:\n",
    "• Shift+Enter: 셀 실행하고 다음으로\n",
    "• Ctrl+Enter: 셀 실행만\n",
    "• Esc: 명령 모드\n",
    "• Enter: 편집 모드\n",
    "\n",
    "명령 모드(파란색):\n",
    "• A: 위에 셀 추가\n",
    "• B: 아래 셀 추가\n",
    "• DD: 셀 삭제\n",
    "• M: Markdown으로 변경\n",
    "• Y: Code로 변경\n",
    "\n",
    "💡 팁:\n",
    "• 셀은 순서대로 실행하세요\n",
    "• 변수는 셀 간에 공유됩니다\n",
    "• Kernel → Restart: 초기화\n",
    "\"\"\")\n",
    "\n",
    "# 이건 Code 셀입니다 - 실행 가능!\n",
    "print(\"Jupyter 노트북에서 실행 중!\")"
   ]
  },
  {
   "cell_type": "markdown",
   "metadata": {},
   "source": [
    "## 🎯 양자 컴퓨팅용 파이썬 체크리스트\n",
    "\n",
    "- ✅ 변수 만들고 계산하기\n",
    "- ✅ 리스트로 데이터 저장하기\n",
    "- ✅ 조건문과 반복문 사용하기\n",
    "- ✅ 함수 만들기\n",
    "- ✅ 모듈 불러오기\n",
    "- ✅ VS Code와 Jupyter 사용하기\n",
    "\n",
    "### 양자 컴퓨팅에서 자주 쓰는 패턴:"
   ]
  },
  {
   "cell_type": "code",
   "execution_count": null,
   "metadata": {},
   "outputs": [],
   "source": [
    "# 양자 회로 만들기 패턴\n",
    "from qiskit import QuantumCircuit\n",
    "\n",
    "# 회로 생성\n",
    "qc = QuantumCircuit(2)  # 2큐비트\n",
    "\n",
    "# 게이트 추가\n",
    "qc.h(0)  # 0번 큐비트에 H 게이트\n",
    "qc.cx(0, 1)  # CNOT 게이트\n",
    "\n",
    "# 측정 결과 처리 패턴\n",
    "측정결과 = {\"00\": 512, \"11\": 488}\n",
    "\n",
    "for 상태, 횟수 in 측정결과.items():\n",
    "    확률 = 횟수 / 1000\n",
    "    print(f\"|{상태}⟩: {확률:.1%}\")\n",
    "\n",
    "print(\"\\n🚀 준비 완료! 이제 양자 컴퓨팅을 시작하세요!\")"
   ]
  },
  {
   "cell_type": "markdown",
   "metadata": {},
   "source": [
    "## 📚 더 배우고 싶다면?\n",
    "\n",
    "### 추천 학습 순서:\n",
    "1. **이 노트북의 코드를 직접 실행해보세요**\n",
    "2. **값을 바꿔가며 실험해보세요**\n",
    "3. **00_설치_환경설정_가이드.ipynb로 이동**\n",
    "4. **01_양자컴퓨팅_첫걸음.ipynb 시작!**\n",
    "\n",
    "### 파이썬 추가 학습:\n",
    "- 🌐 [점프 투 파이썬](https://wikidocs.net/book/1)\n",
    "- 🎮 [파이썬 코딩 도장](https://dojang.io/course/view.php?id=7)\n",
    "- 📖 [파이썬 공식 튜토리얼](https://docs.python.org/ko/3/tutorial/)\n",
    "\n",
    "10분 투자로 파이썬 기초 완성! 🎉"
   ]
  }
 ],
 "metadata": {
  "kernelspec": {
   "display_name": ".venv",
   "language": "python",
   "name": "python3"
  },
  "language_info": {
   "codemirror_mode": {
    "name": "ipython",
    "version": 3
   },
   "file_extension": ".py",
   "mimetype": "text/x-python",
   "name": "python",
   "nbconvert_exporter": "python",
   "pygments_lexer": "ipython3",
   "version": "3.10.10"
  }
 },
 "nbformat": 4,
 "nbformat_minor": 4
}
