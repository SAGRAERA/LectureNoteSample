{
 "cells": [
  {
   "cell_type": "markdown",
   "metadata": {},
   "source": [
    "# Session 1: 양자 컴퓨팅 첫걸음\n",
    "\n",
    "## 학습 목표\n",
    "- 큐비트와 양자 상태 이해\n",
    "- 기본 양자 게이트 사용\n",
    "- Bell State 만들기\n",
    "- 양자 동전과 주사위 만들기\n"
   ]
  },
  {
   "cell_type": "code",
   "execution_count": null,
   "metadata": {},
   "outputs": [],
   "source": [
    "# 필요한 라이브러리 임포트\n",
    "from qiskit import QuantumCircuit, QuantumRegister, ClassicalRegister\n",
    "from qiskit.quantum_info import Statevector\n",
    "from qiskit.visualization import plot_histogram, plot_bloch_multivector\n",
    "from qiskit_ibm_runtime import SamplerV2 as Sampler\n",
    "from qiskit_ibm_runtime.fake_provider import FakeKolkataV2\n",
    "from qiskit import transpile\n",
    "import numpy as np\n",
    "import matplotlib.pyplot as plt\n",
    "\n",
    "%matplotlib inline\n",
    "\n",
    "# 백엔드 설정\n",
    "backend = FakeKolkataV2()\n",
    "sampler = Sampler(backend)\n",
    "\n",
    "print(\"준비 완료! 양자 컴퓨팅을 시작합니다! 🚀\")"
   ]
  },
  {
   "cell_type": "markdown",
   "metadata": {},
   "source": [
    "## Part 1: 큐비트 이해하기\n",
    "\n",
    "### 1.1 고전 비트 vs 양자 비트"
   ]
  },
  {
   "cell_type": "code",
   "execution_count": null,
   "metadata": {},
   "outputs": [],
   "source": [
    "# 고전 비트: 0 또는 1\n",
    "classical_bit = 0  # 또는 1\n",
    "print(f\"고전 비트: {classical_bit}\")\n",
    "print(\"고전 비트는 0 또는 1 중 하나의 값만 가집니다.\\n\")\n",
    "\n",
    "# 양자 비트: 0과 1의 중첩\n",
    "# |ψ⟩ = α|0⟩ + β|1⟩\n",
    "alpha = 1/np.sqrt(2)  # 0의 확률 진폭\n",
    "beta = 1/np.sqrt(2)   # 1의 확률 진폭\n",
    "\n",
    "print(f\"양자 비트: {alpha:.3f}|0⟩ + {beta:.3f}|1⟩\")\n",
    "print(f\"측정 시 0이 나올 확률: {alpha**2:.1%}\")\n",
    "print(f\"측정 시 1이 나올 확률: {beta**2:.1%}\")"
   ]
  },
  {
   "cell_type": "markdown",
   "metadata": {},
   "source": [
    "### 1.2 첫 번째 양자 회로 만들기"
   ]
  },
  {
   "cell_type": "code",
   "execution_count": null,
   "metadata": {},
   "outputs": [],
   "source": [
    "# 1개의 큐비트와 1개의 측정용 비트를 가진 회로 생성\n",
    "qc = QuantumCircuit(1, 1)\n",
    "\n",
    "# 회로 그리기\n",
    "print(\"빈 양자 회로:\")\n",
    "# print(qc.draw())\n",
    "qc.draw('mpl')\n",
    "print(\"\\nq: 큐비트 (양자 비트)\")\n",
    "print(\"c: 클래식 비트 (측정 결과 저장)\")"
   ]
  },
  {
   "cell_type": "markdown",
   "metadata": {},
   "source": [
    "### 1.3 큐비트 상태 시각화"
   ]
  },
  {
   "cell_type": "code",
   "execution_count": null,
   "metadata": {},
   "outputs": [],
   "source": [
    "# |0⟩ 상태 시각화\n",
    "qc_zero = QuantumCircuit(1)\n",
    "state_zero = Statevector(qc_zero)\n",
    "\n",
    "print(\"초기 상태 |0⟩:\")\n",
    "print(f\"상태 벡터: {state_zero.data}\")\n",
    "print(\"\\nBloch 구면에서의 위치:\")\n",
    "plot_bloch_multivector(state_zero)"
   ]
  },
  {
   "cell_type": "markdown",
   "metadata": {},
   "source": [
    "## Part 2: 기본 양자 게이트\n",
    "\n",
    "### 2.1 X 게이트 (NOT 게이트)"
   ]
  },
  {
   "cell_type": "code",
   "execution_count": null,
   "metadata": {},
   "outputs": [],
   "source": [
    "# X 게이트: 0을 1로, 1을 0으로\n",
    "qc_x = QuantumCircuit(1, 1)\n",
    "qc_x.x(0)  # 큐비트 0에 X 게이트 적용\n",
    "qc_x.measure(0, 0)  # 측정\n",
    "\n",
    "print(\"X 게이트 회로:\")\n",
    "qc_x.draw('mpl')\n",
    "\n",
    "# 실행\n",
    "transpiled = transpile(qc_x, backend)\n",
    "job = sampler.run([(transpiled, [])], shots=1000)\n",
    "result = job.result()\n",
    "counts = result[0].data.c.get_counts()\n",
    "\n",
    "print(f\"\\n측정 결과: {counts}\")\n",
    "print(\"X 게이트는 |0⟩을 |1⟩로 바꿉니다!\")"
   ]
  },
  {
   "cell_type": "markdown",
   "metadata": {},
   "source": [
    "### 2.2 H 게이트 (Hadamard 게이트) - 중첩 생성!"
   ]
  },
  {
   "cell_type": "code",
   "execution_count": null,
   "metadata": {},
   "outputs": [],
   "source": [
    "# H 게이트: 중첩 상태 생성\n",
    "qc_h = QuantumCircuit(1, 1)\n",
    "qc_h.h(0)  # Hadamard 게이트\n",
    "qc_h.measure(0, 0)\n",
    "\n",
    "print(\"Hadamard 게이트 회로:\")\n",
    "print(qc_h.draw())\n",
    "\n",
    "# 실행\n",
    "transpiled = transpile(qc_h, backend)\n",
    "job = sampler.run([(transpiled, [])], shots=1000)\n",
    "result = job.result()\n",
    "counts = result[0].data.c.get_counts()\n",
    "\n",
    "# 결과 시각화\n",
    "plot_histogram(counts)\n",
    "plt.title(\"Hadamard Gate: 50:50 Probability\")\n",
    "plt.show()\n",
    "\n",
    "print(\"H 게이트는 균등한 중첩을 만듭니다!\")\n",
    "print(f\"0이 나올 확률: {counts.get('0', 0)/1000:.1%}\")\n",
    "# print(f\"0이 나올 확률: {counts['0']/1000:.1%}\")\n",
    "print(f\"1이 나올 확률: {counts.get('1', 0)/1000:.1%}\")\n",
    "# print(f\"0이 나올 확률: {counts['1']/1000:.1%}\")"
   ]
  },
  {
   "cell_type": "markdown",
   "metadata": {},
   "source": [
    "### 2.3 게이트 조합하기"
   ]
  },
  {
   "cell_type": "code",
   "execution_count": null,
   "metadata": {},
   "outputs": [],
   "source": [
    "# 여러 게이트를 순서대로 적용\n",
    "qc_combo = QuantumCircuit(1, 1)\n",
    "\n",
    "# H → X → H 순서로 적용\n",
    "# qc_combo.x(0)    # 1 상태\n",
    "qc_combo.h(0)    # 중첩 생성\n",
    "qc_combo.x(0)    # NOT\n",
    "qc_combo.h(0)    # 다시 중첩\n",
    "qc_combo.measure(0, 0)\n",
    "\n",
    "print(\"게이트 조합 (H-X-H):\")\n",
    "qc_combo.draw('mpl')\n",
    "\n",
    "# 실행\n",
    "transpiled = transpile(qc_combo, backend)\n",
    "job = sampler.run([(transpiled, [])], shots=1000)\n",
    "result = job.result()\n",
    "counts = result[0].data.c.get_counts()\n",
    "\n",
    "print(f\"\\n결과: {counts}\")\n",
    "print(\"H-X-H = Z 게이트와 같습니다!\")"
   ]
  },
  {
   "cell_type": "markdown",
   "metadata": {},
   "source": [
    "## Part 3: Bell State - 양자 얽힘 만들기! (15분)\n",
    "\n",
    "### 3.1 CNOT 게이트 - 두 큐비트 연결"
   ]
  },
  {
   "cell_type": "code",
   "execution_count": null,
   "metadata": {},
   "outputs": [],
   "source": [
    "# CNOT 게이트: 제어 큐비트가 1이면 타겟 큐비트 반전\n",
    "qc_cnot = QuantumCircuit(2, 2)\n",
    "\n",
    "# 첫 번째 큐비트를 1로 설정\n",
    "qc_cnot.x(0)\n",
    "# CNOT: 0번이 제어, 1번이 타겟\n",
    "qc_cnot.cx(0, 1)\n",
    "qc_cnot.measure([0, 1], [0, 1])\n",
    "\n",
    "print(\"CNOT 게이트 회로:\")\n",
    "qc_cnot.draw('mpl')\n",
    "\n",
    "# 실행\n",
    "transpiled = transpile(qc_cnot, backend)\n",
    "job = sampler.run([(transpiled, [])], shots=1000)\n",
    "result = job.result()\n",
    "counts = result[0].data.c.get_counts()\n",
    "\n",
    "print(f\"\\n결과: {counts}\")\n",
    "print(\"첫 번째가 1이므로 두 번째도 1이 됩니다 → 11\")"
   ]
  },
  {
   "cell_type": "markdown",
   "metadata": {},
   "source": [
    "### 3.2 Bell State 생성 - 양자 얽힘!"
   ]
  },
  {
   "cell_type": "code",
   "execution_count": null,
   "metadata": {},
   "outputs": [],
   "source": [
    "# Bell State: 두 큐비트가 완벽하게 얽힌 상태\n",
    "bell = QuantumCircuit(2, 2)\n",
    "\n",
    "# Step 1: 첫 번째 큐비트를 중첩 상태로\n",
    "bell.h(0)\n",
    "\n",
    "# Step 2: CNOT으로 얽힘 생성\n",
    "bell.cx(0, 1)\n",
    "\n",
    "# 측정\n",
    "bell.measure([0, 1], [0, 1])\n",
    "\n",
    "print(\"Bell State 회로:\")\n",
    "bell.draw('mpl')\n",
    "print(\"\\n이 회로는 |00⟩ + |11⟩ 상태를 만듭니다!\")"
   ]
  },
  {
   "cell_type": "code",
   "execution_count": null,
   "metadata": {},
   "outputs": [],
   "source": [
    "# Bell State 실행 및 결과 확인\n",
    "transpiled = transpile(bell, backend)\n",
    "job = sampler.run([(transpiled, [])], shots=1000)\n",
    "result = job.result()\n",
    "counts = result[0].data.c.get_counts()\n",
    "\n",
    "# 시각화\n",
    "plot_histogram(counts)\n",
    "plt.title(\"Bell State\")\n",
    "plt.show()\n",
    "\n",
    "print(\"🎉 양자 얽힘 성공!\")\n",
    "print(\"00과 11만 나타납니다 - 두 큐비트가 얽혀있습니다!\")\n",
    "print(\"\\n한 큐비트를 측정하면 다른 큐비트의 상태가 즉시 결정됩니다!\")"
   ]
  },
  {
   "cell_type": "markdown",
   "metadata": {},
   "source": [
    "### 3.3 다른 Bell States 만들기"
   ]
  },
  {
   "cell_type": "code",
   "execution_count": null,
   "metadata": {},
   "outputs": [],
   "source": [
    "# 4가지 Bell States\n",
    "bell_states = {\n",
    "    'Φ+': '(|00⟩ + |11⟩)/√2',\n",
    "    'Φ-': '(|00⟩ - |11⟩)/√2',\n",
    "    'Ψ+': '(|01⟩ + |10⟩)/√2',\n",
    "    'Ψ-': '(|01⟩ - |10⟩)/√2'\n",
    "}\n",
    "\n",
    "fig, axes = plt.subplots(2, 2, figsize=(10, 8))\n",
    "axes = axes.flatten()\n",
    "\n",
    "for idx, (name, formula) in enumerate(bell_states.items()):\n",
    "    qc = QuantumCircuit(2, 2)\n",
    "    \n",
    "    # Bell state 생성\n",
    "    if idx == 0:  # Φ+\n",
    "        qc.h(0)\n",
    "        qc.cx(0, 1)\n",
    "    elif idx == 1:  # Φ-\n",
    "        qc.h(0)\n",
    "        qc.cx(0, 1)\n",
    "        qc.z(0)\n",
    "    elif idx == 2:  # Ψ+\n",
    "        qc.h(0)\n",
    "        qc.cx(0, 1)\n",
    "        qc.x(1)\n",
    "    else:  # Ψ-\n",
    "        qc.h(0)\n",
    "        qc.cx(0, 1)\n",
    "        qc.x(1)\n",
    "        qc.z(0)\n",
    "    \n",
    "    qc.measure([0, 1], [0, 1])\n",
    "    \n",
    "    # 실행\n",
    "    transpiled = transpile(qc, backend)\n",
    "    job = sampler.run([(transpiled, [])], shots=1000)\n",
    "    result = job.result()\n",
    "    counts = result[0].data.c.get_counts()\n",
    "    \n",
    "    # 시각화\n",
    "    # axes[idx].bar(counts.keys(), counts.values())\n",
    "    plot_histogram(counts, ax=axes[idx], sort='asc')\n",
    "    axes[idx].set_title(f'Bell State |{name}⟩\\n{formula}')\n",
    "    axes[idx].set_xlabel('measurement')\n",
    "    axes[idx].set_ylabel('counts')\n",
    "\n",
    "plt.tight_layout()\n",
    "plt.show()"
   ]
  },
  {
   "cell_type": "markdown",
   "metadata": {},
   "source": [
    "## Part 4: 실습 프로젝트\n",
    "\n",
    "### 4.1 양자 동전 만들기"
   ]
  },
  {
   "cell_type": "code",
   "execution_count": null,
   "metadata": {},
   "outputs": [],
   "source": [
    "# 양자 동전: 공정한 동전\n",
    "def quantum_coin_flip():\n",
    "    \"\"\"양자 동전 던지기\"\"\"\n",
    "    qc = QuantumCircuit(1, 1)\n",
    "    \n",
    "    # Hadamard로 50:50 확률 생성\n",
    "    qc.h(0)\n",
    "    \n",
    "    # 측정\n",
    "    qc.measure(0, 0)\n",
    "    \n",
    "    # 실행\n",
    "    transpiled = transpile(qc, backend)\n",
    "    job = sampler.run([(transpiled, [])], shots=1)\n",
    "    result = job.result()\n",
    "    counts = result[0].data.c.get_counts()\n",
    "    \n",
    "    # 결과 해석\n",
    "    outcome = list(counts.keys())[0]\n",
    "    return \"앞면\" if outcome == '0' else \"뒷면\"\n",
    "\n",
    "# 10번 동전 던지기\n",
    "print(\"양자 동전 10번 던지기:\")\n",
    "results = [quantum_coin_flip() for _ in range(10)]\n",
    "for i, result in enumerate(results, 1):\n",
    "    print(f\"  {i:2}번: {result}\")\n",
    "\n",
    "print(f\"\\n앞면: {results.count('앞면')}번, 뒷면: {results.count('뒷면')}번\")"
   ]
  },
  {
   "cell_type": "markdown",
   "metadata": {},
   "source": [
    "### 4.2 편향된 양자 동전"
   ]
  },
  {
   "cell_type": "code",
   "execution_count": null,
   "metadata": {},
   "outputs": [],
   "source": [
    "prob_heads = 0.7\n",
    "def biased_quantum_coin(prob_heads=prob_heads):\n",
    "    \"\"\"편향된 양자 동전\"\"\"\n",
    "    qc = QuantumCircuit(1, 1)\n",
    "    \n",
    "    # 회전 각도 계산\n",
    "    theta = 2 * np.arccos(np.sqrt(prob_heads))\n",
    "    \n",
    "    # Y축 회전으로 편향 생성\n",
    "    qc.ry(theta, 0)\n",
    "    \n",
    "    # 측정\n",
    "    qc.measure(0, 0)\n",
    "    \n",
    "    return qc\n",
    "\n",
    "# 70% 확률로 앞면이 나오는 동전\n",
    "biased_coin = biased_quantum_coin(0.7)\n",
    "print(\"편향된 동전 회로:\")\n",
    "biased_coin.draw('mpl')\n",
    "\n",
    "# 1000번 시뮬레이션\n",
    "transpiled = transpile(biased_coin, backend)\n",
    "job = sampler.run([(transpiled, [])], shots=1000)\n",
    "result = job.result()\n",
    "counts = result[0].data.c.get_counts()\n",
    "\n",
    "# 결과 시각화\n",
    "plot_histogram(counts)\n",
    "plt.title(f\"biased coin ({prob_heads*100}%)\")\n",
    "plt.show()\n",
    "\n",
    "print(f\"앞면(0) 확률: {counts.get('0', 0)/1000:.1%}\")\n",
    "print(f\"뒷면(1) 확률: {counts.get('1', 0)/1000:.1%}\")"
   ]
  },
  {
   "cell_type": "markdown",
   "metadata": {},
   "source": [
    "### 4.3 양자 주사위 만들기"
   ]
  },
  {
   "cell_type": "code",
   "execution_count": null,
   "metadata": {},
   "outputs": [],
   "source": [
    "def quantum_dice():\n",
    "    \"\"\"6면 양자 주사위\"\"\"\n",
    "    # 3큐비트 사용 (2^3 = 8개 상태)\n",
    "    qc = QuantumCircuit(3, 3)\n",
    "    \n",
    "    # 균등 중첩\n",
    "    qc.h(0)\n",
    "    qc.h(1)\n",
    "    qc.h(2)\n",
    "    \n",
    "    # 측정\n",
    "    qc.measure([0, 1, 2], [0, 1, 2])\n",
    "    \n",
    "    return qc\n",
    "\n",
    "# 주사위 실행\n",
    "dice = quantum_dice()\n",
    "print(\"양자 주사위 회로:\")\n",
    "dice.draw('mpl')\n",
    "\n",
    "# 시뮬레이션\n",
    "transpiled = transpile(dice, backend)\n",
    "job = sampler.run([(transpiled, [])], shots=1000)\n",
    "result = job.result()\n",
    "counts = result[0].data.c.get_counts()\n",
    "\n",
    "# 0~5를 1~6으로 매핑 (6, 7은 다시 굴림)\n",
    "dice_results = {i+1: 0 for i in range(6)}\n",
    "reroll_count = 0\n",
    "\n",
    "for outcome_str, count in counts.items():\n",
    "    outcome = int(outcome_str, 2)\n",
    "    if outcome < 6:\n",
    "        dice_results[outcome + 1] += count\n",
    "    else:\n",
    "        reroll_count += count\n",
    "\n",
    "# 결과 시각화\n",
    "plt.figure(figsize=(10, 5))\n",
    "plt.subplot(1, 2, 1)\n",
    "plt.bar(dice_results.keys(), dice_results.values())\n",
    "plt.xlabel('Dice Face')\n",
    "plt.ylabel('Counts')\n",
    "plt.title('Quantum Dice (6 faces)')\n",
    "plt.axhline(y=1000/6, color='r', linestyle='--', label='Ideal Probability')\n",
    "plt.legend()\n",
    "\n",
    "plt.subplot(1, 2, 2)\n",
    "labels = ['Valid (1-6)', 'Reroll (7-8)']\n",
    "sizes = [sum(dice_results.values()), reroll_count]\n",
    "plt.pie(sizes, labels=labels, autopct='%1.1f%%')\n",
    "plt.title('Measurement Distribution')\n",
    "\n",
    "plt.tight_layout()\n",
    "plt.show()\n",
    "\n",
    "print(f\"\\nReroll required: {reroll_count/1000:.1%}\")"
   ]
  },
  {
   "cell_type": "markdown",
   "metadata": {},
   "source": [
    "### 4.4 양자 난수 생성기"
   ]
  },
  {
   "cell_type": "code",
   "execution_count": null,
   "metadata": {},
   "outputs": [],
   "source": [
    "def quantum_random_number(n_bits=8):\n",
    "    \"\"\"n비트 양자 난수 생성\"\"\"\n",
    "    qc = QuantumCircuit(n_bits, n_bits)\n",
    "    \n",
    "    # 모든 큐비트를 중첩 상태로\n",
    "    for i in range(n_bits):\n",
    "        qc.h(i)\n",
    "    \n",
    "    # 측정\n",
    "    qc.measure(range(n_bits), range(n_bits))\n",
    "    \n",
    "    # 실행\n",
    "    transpiled = transpile(qc, backend)\n",
    "    job = sampler.run([(transpiled, [])], shots=1)\n",
    "    result = job.result()\n",
    "    counts = result[0].data.c.get_counts()\n",
    "    \n",
    "    # 결과를 정수로 변환\n",
    "    random_number = list(counts.keys())[0]\n",
    "    random_number = int(random_number, 2)\n",
    "    return random_number\n",
    "\n",
    "# 8비트 난수 생성 (0~255)\n",
    "print(\"8비트 양자 난수 10개 생성:\")\n",
    "random_numbers = [quantum_random_number(8) for _ in range(10)]\n",
    "\n",
    "for i, num in enumerate(random_numbers, 1):\n",
    "    binary = format(num, '08b')\n",
    "    print(f\"  {i:2}. {binary} = {num:3}\")\n",
    "\n",
    "print(f\"\\n평균: {np.mean(random_numbers):.1f} (ideal: 127.5)\")\n",
    "print(f\"표준편차: {np.std(random_numbers):.1f} (ideal: 73.9)\")"
   ]
  },
  {
   "cell_type": "markdown",
   "metadata": {},
   "source": [
    "## 🎯 도전 과제\n",
    "\n",
    "### 도전 1: 3-큐비트 GHZ State"
   ]
  },
  {
   "cell_type": "code",
   "execution_count": null,
   "metadata": {},
   "outputs": [],
   "source": [
    "# GHZ State: 3개 큐비트가 모두 얽힌 상태\n",
    "# |GHZ⟩ = (|000⟩ + |111⟩)/√2\n",
    "\n",
    "def create_ghz_state():\n",
    "    \"\"\"3-큐비트 GHZ state 생성\"\"\"\n",
    "    qc = QuantumCircuit(3, 3)\n",
    "    \n",
    "    # 여기에 코드를 작성하세요\n",
    "    # 힌트: H 게이트 1개와 CNOT 게이트 2개\n",
    "    qc.h(0)\n",
    "    qc.cx(0, 1)\n",
    "    qc.cx(1, 2)\n",
    "    \n",
    "    qc.measure([0, 1, 2], [0, 1, 2])\n",
    "    return qc\n",
    "\n",
    "# 테스트\n",
    "ghz = create_ghz_state()\n",
    "print(\"GHZ State 회로:\")\n",
    "ghz.draw('mpl')\n",
    "\n",
    "# 실행\n",
    "transpiled = transpile(ghz, backend)\n",
    "job = sampler.run([(transpiled, [])], shots=1000)\n",
    "result = job.result()\n",
    "counts = result[0].data.c.get_counts()\n",
    "\n",
    "plot_histogram(counts)\n",
    "plt.title(\"GHZ State: 3-qubits entanglement\")\n",
    "plt.show()\n",
    "\n",
    "print(\"000과 111만 나타납니다 - 3개 큐비트가 완벽하게 얽혔습니다!\")"
   ]
  },
  {
   "cell_type": "markdown",
   "metadata": {},
   "source": [
    "## 📝 Session 1 요약\n",
    "\n",
    "### 오늘 배운 것:\n",
    "1. **큐비트**: 0과 1의 중첩 상태\n",
    "2. **기본 게이트**: X (NOT), H (Hadamard), CNOT\n",
    "3. **Bell State**: 양자 얽힘의 기본\n",
    "4. **응용**: 양자 동전, 주사위, 난수 생성기\n",
    "\n",
    "### 핵심 개념:\n",
    "- **중첩**: 여러 상태가 동시에 존재\n",
    "- **얽힘**: 큐비트들의 운명적 연결\n",
    "- **측정**: 양자 상태의 붕괴\n",
    "\n",
    "### 다음 세션 예고:\n",
    "- 양자 텔레포테이션\n",
    "- 더 복잡한 회로 설계\n",
    "- 실제 양자 컴퓨터 사용법"
   ]
  },
  {
   "cell_type": "code",
   "execution_count": null,
   "metadata": {},
   "outputs": [],
   "source": [
    "# 축하합니다! 🎉\n",
    "print(\"🎊 Session 1 완료!\")\n",
    "print(\"\\n당신은 이제:\")\n",
    "print(\"✅ 양자 회로를 만들 수 있습니다\")\n",
    "print(\"✅ 기본 양자 게이트를 사용할 수 있습니다\")\n",
    "print(\"✅ Bell State를 이해합니다\")\n",
    "print(\"✅ 양자 응용 프로그램을 만들 수 있습니다\")\n",
    "print(\"\\n다음 세션에서 더 놀라운 것들을 배워봅시다! 🚀\")"
   ]
  }
 ],
 "metadata": {
  "kernelspec": {
   "display_name": "qi_venv (3.13.0)",
   "language": "python",
   "name": "python3"
  },
  "language_info": {
   "codemirror_mode": {
    "name": "ipython",
    "version": 3
   },
   "file_extension": ".py",
   "mimetype": "text/x-python",
   "name": "python",
   "nbconvert_exporter": "python",
   "pygments_lexer": "ipython3",
   "version": "3.13.0"
  }
 },
 "nbformat": 4,
 "nbformat_minor": 4
}
